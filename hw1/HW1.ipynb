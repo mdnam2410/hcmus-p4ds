{
 "cells": [
  {
   "cell_type": "markdown",
   "id": "46896a80",
   "metadata": {},
   "source": [
    "# HW1: Các câu lệnh Linux, Python\n",
    "\n",
    "(Cập nhật lần cuối: 30/10/2021)\n",
    "\n",
    "Họ tên: Mai Duy Nam\n",
    "\n",
    "MSSV: 19120298"
   ]
  },
  {
   "cell_type": "markdown",
   "id": "155aa0df",
   "metadata": {},
   "source": [
    "## Cách làm bài và nộp bài"
   ]
  },
  {
   "cell_type": "markdown",
   "id": "f181e2a2",
   "metadata": {},
   "source": [
    "&#9889; Bạn lưu ý là mình sẽ dùng chương trình hỗ trợ chấm bài nên bạn cần phải tuân thủ chính xác qui định mà mình đặt ra, nếu không rõ thì hỏi, chứ không nên tự tiện làm theo ý của cá nhân.\n",
    "\n",
    "**Cách làm bài**\n",
    "\n",
    "Bạn sẽ làm trực tiếp trên file notebook này. Đầu tiên, bạn điền họ tên và MSSV vào phần đầu file ở bên trên. Trong file, bạn làm bài ở những chỗ có ghi là:\n",
    "```python\n",
    "# YOUR CODE HERE\n",
    "raise NotImplementedError()\n",
    "```\n",
    "hoặc đối với những phần code không bắt buộc thì là:\n",
    "```python\n",
    "# YOUR CODE HERE (OPTION)\n",
    "```\n",
    "hoặc đối với markdown cell thì là:\n",
    "```markdown\n",
    "YOUR ANSWER HERE\n",
    "```\n",
    "Tất nhiên, khi làm thì bạn xóa dòng `raise NotImplementedError()` đi.\n",
    "Đối những phần yêu cầu code thì thường ở ngay phía dưới sẽ có một (hoặc một số) cell chứa các bộ test để giúp bạn biết đã code đúng hay chưa; nếu chạy cell này không có lỗi gì thì có nghĩa là qua được các bộ test. Trong một số trường hợp, các bộ test có thể sẽ không đầy đủ; nghĩa là, nếu không qua được test thì là code sai, nhưng nếu qua được test thì chưa chắc đã đúng hoàn toàn.\n",
    "\n",
    "Trong khi làm bài, bạn có thể cho in ra màn hình, tạo thêm các cell để test. Nhưng khi nộp bài thì bạn xóa các cell mà bạn tự tạo, xóa hoặc comment các câu lệnh in ra màn hình. Bạn lưu ý <font color=red>không được tự tiện xóa các cell hay sửa code của Thầy</font> (trừ những chỗ được phép sửa như đã nói ở trên).\n",
    "\n",
    "Bạn cố gắng giữ cho code rõ ràng, ngăn nắp: đặt tên biến gợi ý, comment ở những chỗ cần comment, giữ cho một dòng code không quá dài (vì nếu không thì người đọc sẽ phải mất công scroll, bạn có thể dùng qui tắc: một dòng code chỉ nên có tối đa là 79 ký tự). \n",
    "\n",
    "Trong khi làm bài, thường xuyên `Ctrl + S` để lưu lại bài làm của bạn, tránh mất mát thông tin.\n",
    "\n",
    "\n",
    "*Nên nhớ mục tiêu chính ở đây là <font color=green>học, học một cách chân thật</font>. Bạn có thể thảo luận ý tưởng với bạn khác, nhưng <font color=green>code và bài làm phải là của bạn, dựa trên sự hiểu thật sự của bạn</font>. <font color=red>Nếu vi phạm thì sẽ bị 0 điểm cho toàn bộ môn học.</font>*\n",
    "\n",
    "**Cách nộp bài**\n",
    "\n",
    "Khi chấm bài, đầu tiên mình sẽ chọn `Kernel` - `Restart & Run All` để restart và chạy tất cả các cell trong notebook của bạn; do đó, trước khi nộp bài, bạn nên chạy thử `Kernel` - `Restart & Run All` để đảm bảo mọi chuyện diễn ra đúng như mong đợi.\n",
    "\n",
    "Sau đó, bạn tạo thư mục nộp bài theo cấu trúc sau:\n",
    "- Thư mục `MSSV` (vd, nếu bạn có MSSV là 1234567 thì bạn đặt tên thư mục là `1234567`)\n",
    "    - File `HW1.ipynb` (không cần nộp các file khác)\n",
    "\n",
    "Cuối cùng, bạn nén thư mục `MSSV` này lại và nộp ở link trên moodle. <font color=red>Bạn lưu ý tuân thủ chính xác qui định nộp bài.</font>"
   ]
  },
  {
   "cell_type": "markdown",
   "id": "f5861b79",
   "metadata": {},
   "source": [
    "## Môi trường code"
   ]
  },
  {
   "cell_type": "markdown",
   "id": "a55dd304",
   "metadata": {},
   "source": [
    "Ta thống nhất trong môn này:\n",
    "- Code trên môi trường Linux (bạn đã setup ở HW0)\n",
    "- Dùng Jupyter Notebook hoặc Jupyter Lab để code file .ipynb. Lưu ý: bạn <font color=red>không dùng Google Colab</font>, vì Google Colab có thể xóa một số thông tin meta mà chương trình hỗ trợ chấm bài của mình đã tạo trong file bài tập\n",
    "- Dùng phiên bản các package như trong file \"min_ds-env.yml\" (bạn xem trong HW0 cách dùng Conda để tạo môi trường code từ file .yml và cách kích hoạt môi trường này sau khi đã tạo)"
   ]
  },
  {
   "cell_type": "code",
   "execution_count": 1,
   "id": "f4d0ddac",
   "metadata": {},
   "outputs": [
    {
     "data": {
      "text/plain": [
       "'/home/mdnam/miniconda/envs/min_ds-env/bin/python3.8'"
      ]
     },
     "execution_count": 1,
     "metadata": {},
     "output_type": "execute_result"
    }
   ],
   "source": [
    "import sys\n",
    "sys.executable"
   ]
  },
  {
   "cell_type": "markdown",
   "id": "0aed058f",
   "metadata": {},
   "source": [
    "Nếu không có vấn đề gì thì file chạy python sẽ là file của môi trường code \"min_ds-env\".\n",
    "\n",
    "Trong bài này, ngoài Git & Jupyter Notebook/Lab thì bạn chỉ dùng Python, không dùng các thư viện khác như Numpy, Pandas, ... Trong Python, khi đọc/ghi file csv thì bạn cũng không được dùng các thư viện hỗ trợ như thư viện `csv`."
   ]
  },
  {
   "cell_type": "markdown",
   "id": "f1372718",
   "metadata": {},
   "source": [
    "## Import các thư viện cần thiết"
   ]
  },
  {
   "cell_type": "code",
   "execution_count": 2,
   "id": "aa2cfe75",
   "metadata": {},
   "outputs": [],
   "source": [
    "import copy\n",
    "import datetime\n",
    "import re"
   ]
  },
  {
   "cell_type": "markdown",
   "id": "6098d27a",
   "metadata": {},
   "source": [
    "## Thu thập dữ liệu (3.5đ)"
   ]
  },
  {
   "cell_type": "markdown",
   "id": "d227fd9b",
   "metadata": {},
   "source": [
    "Trong bài tập này, bạn sẽ lấy dữ liệu log của [thùng chứa nbdime](https://github.com/KienTrann/nbdime). Nbdime là công cụ giúp Git có thể diff và merge file Notebook một cách phù hợp (thay vì chỉ coi như là một file text thông thường). Link mình cung cấp không phải là link đến thùng chứa gốc của nbdime mà là thùng chứa mình \"fork\" (đại khái là tạo ra một bản copy) từ thùng chứa gốc. Lý do: mình muốn cố định lại dữ liệu log để có thể cung cấp các bộ test để bạn phần nào biết là đã code đúng hay chưa (còn nếu dùng thùng chứa gốc thì dữ liệu log có thể sẽ thay đổi trong vài ngày tới, các bộ test lúc đó có thể sẽ không còn đúng nữa).\n",
    "\n",
    "Để có thể lấy dữ liệu log thì việc đầu tiên bạn cần làm ở cell bên dưới là: \n",
    "\n",
    "- Dùng câu lệnh Git để clone thùng chứa về; bạn clone vào một thư mục cùng cấp với file notebook này. <font color=gray>Gợi ý: trong Jupyter Notebook, ở code cell, bạn có thể thực hiện một câu lệnh Linux (bao gồm câu lệnh Git) bằng cách thêm dấu ! ở đầu.</font>\n",
    "- Sau đó, để xem thử thư mục vừa clone có nặng không, bạn tính dung lượng tổng cộng của thư mục này và lưu vào biến `repo_size` (`repo_size` là một con số, đơn vị là MB); ta thống nhất: (i) dùng cờ `apparent-size` khi dùng câu lệnh `du`, (ii) code chỉ cần chạy đúng với thùng chứa cụ thể này. <font color=gray>Gợi ý: trong Jupyter Notebook, bạn có thể gán kết quả của câu lệnh Linux vào biến Python.</font>"
   ]
  },
  {
   "cell_type": "markdown",
   "id": "former-invite",
   "metadata": {
    "deletable": false,
    "nbgrader": {
     "cell_type": "code",
     "checksum": "f9d6621381f8d838d952e28da52f9eea",
     "grade": true,
     "grade_id": "cell-5984c6f1d3bb0311",
     "locked": false,
     "points": 0.5,
     "schema_version": 3,
     "solution": true,
     "task": false
    }
   },
   "source": []
  },
  {
   "cell_type": "code",
   "execution_count": 3,
   "id": "attempted-grain",
   "metadata": {
    "scrolled": true
   },
   "outputs": [
    {
     "name": "stdout",
     "output_type": "stream",
     "text": [
      "nbdime exists so don't clone\r\n"
     ]
    },
    {
     "data": {
      "text/plain": [
       "9.8"
      ]
     },
     "execution_count": 3,
     "metadata": {},
     "output_type": "execute_result"
    }
   ],
   "source": [
    "# YOUR CODE HERE\n",
    "# raise NotImplementedError()\n",
    "\n",
    "!test -d \"nbdime\" \\\n",
    "  && echo \"nbdime exists so don't clone\" \\\n",
    "  || (rm -rf nbdime && git clone https://github.com/KienTrann/nbdime.git)\n",
    "\n",
    "# !rm -rf nbdime\n",
    "# !git clone https://github.com/KienTrann/nbdime.git\n",
    "\n",
    "output = !du -sh --apparent-size nbdime\n",
    "repo_size = float(output[0].split('\\t')[0].rstrip('M'))\n",
    "repo_size\n",
    "\n",
    "# Thầy HDTH với mình có test thử thì có máy ra 9.7, có máy ra 9.8\n",
    "# (có thể là do phiên bản của câu lệnh du?)"
   ]
  },
  {
   "cell_type": "markdown",
   "id": "b7c4b9c4",
   "metadata": {},
   "source": [
    "Sau khi đã clone thùng chứa về, việc kế tiếp của bạn là dùng các câu lệnh Linux (trong đó có các câu lệnh Git) và Python để lấy dữ liệu log rồi lưu xuống file \"log.tsv\" (định dạng tsv tương tự như csv nhưng các giá trị được cách nhau bởi tab). Để dễ hình dung, bạn có thể dùng Jupyter Lab để mở xem file kết quả đúng \"correct_log.tsv\" mà mình cung cấp. Như bạn có thể thấy, mỗi dòng ứng với một commit (không tính dòng đầu - dòng chứa các tên cột) và gồm các thông tin:\n",
    "- \"Id\" là id (hash) dạng viết gọn của commit\n",
    "- \"ParentIds\" là id dạng viết gọn của (các) commit cha\n",
    "- \"AuthorName\" là tên của tác giả\n",
    "- \"AuthorEmail\" là email của tác giả\n",
    "- \"AuthorDate\" là ngày tác giả thực hiện commit, ngày được format theo chuẩn RFC2822 (xem phần gợi ý ở bên dưới để biết cách lấy ngày theo format này) \n",
    "- \"Subject\" là tựa đề của message (message tương tự như email, ngoài phần \"subject\" thì có thể có thêm phần \"body\"; ở đây ta chỉ lấy phần \"subject\")\n",
    "- \"ChangedFiles\": các file bị thay đổi, nếu có nhiều file thì các file được phân tách bởi dấu phẩy\n",
    "\n",
    "Tại sao mình dùng định dạng tsv thay vì csv? Vì dấu phẩy nhiều khả năng là sẽ có trong phần \"subject\" của message. Tab ít khả năng sẽ có hơn, nhưng nếu có thì bạn hãy thay bằng bốn khoảng trắng.\n",
    "\n",
    "<font color=gray>Gợi ý cho phần này:</font> \n",
    "- <font color=gray>Bạn có thể xem thêm về câu lệnh `git log` [ở đây](https://git-scm.com/book/en/v2/Git-Basics-Viewing-the-Commit-History)</font>\n",
    "- <font color=gray>Khi ở Notebook, bạn thử `cd` đến thư mục clone rồi `pwd` xem? Kết quả như vậy là vì khi thực hiện một dòng lệnh Linux ở Notebook thì Notebook sẽ tạo ra một terminal tạm thời để thực thi dòng lệnh đó trong phút chốc. Như vậy, câu lệnh `cd` vẫn là có `cd` đến thư mục clone nhưng là ở terminal tạm thời; khi câu lệnh `cd` chạy xong thì terminal tạm thời này sẽ được đóng và ta vẫn ở thư mục mà hiện chứa file Notebook. Để có thể `cd` rồi `pwd` thì một cách là ghi 2 câu lệnh này trên một dòng và cách nhau bởi `&&`; lúc này thì cả 2 câu lệnh sẽ được thực thi trên cùng một terminal</font>"
   ]
  },
  {
   "cell_type": "code",
   "execution_count": 4,
   "id": "dd188ac1",
   "metadata": {
    "deletable": false,
    "nbgrader": {
     "cell_type": "code",
     "checksum": "55b0b31d2d3104224a68b2c60ac4fccf",
     "grade": false,
     "grade_id": "cell-7a31931ee1dd0b8b",
     "locked": false,
     "schema_version": 3,
     "solution": true,
     "task": false
    },
    "scrolled": false
   },
   "outputs": [],
   "source": [
    "headers = ['Id', 'ParentIds', 'AuthorName', 'AuthorEmail', 'AuthorDate', 'Subject', 'ChangedFiles']\n",
    "\n",
    "log = !cd nbdime && git log --pretty=format:\"|%h|%p|%an|%ae|%aD|%s\" --name-only\n",
    "    \n",
    "# Id:          (\\w+) - Alphanumeric\n",
    "# ParentIds:   ([\\w\\s]*) - Alphanumeric and space\n",
    "# AuthorName:  (.*)? - Anything\n",
    "# AuthorEmail: ([\\w\\.\\-@\\+]*) - Alphanumeric @ . - +\n",
    "# AuthorDate:  ([\\w\\s,:\\+\\-]+) - Alphanumeric space , : + -\n",
    "# Subject:     (.*) - Anything\n",
    "pattern_commit = r'^\\|(\\w+)\\|([\\w\\s]*)\\|(.*)?\\|([\\w\\.\\-@\\+]*)\\|([\\w\\s,:\\+\\-]+)\\|(.*)$'\n",
    "\n",
    "rows = []\n",
    "i = 0\n",
    "while i < len(log):\n",
    "    # Get commit info\n",
    "    m = re.match(pattern_commit, log[i])\n",
    "    if m == None:\n",
    "        i += 1\n",
    "        continue\n",
    "    fields = [m.group(i) for i in range(1, 7)]\n",
    "    \n",
    "    # Get changed files (if any)\n",
    "    changed_files = []\n",
    "    \n",
    "    # Next line is not the start of a commit info line\n",
    "    if i + 1 < len(log) and not log[i + 1].startswith('|'):\n",
    "        i += 1\n",
    "        # Series of changed files ends with '' or out of range\n",
    "        while i < len(log) and log[i] != '':\n",
    "            changed_files.append(log[i])\n",
    "            i += 1\n",
    "    fields.append(','.join(changed_files))\n",
    "    \n",
    "    rows.append(fields)\n",
    "    i += 1\n",
    "\n",
    "with open('log.tsv', 'w+') as logtsv:\n",
    "    logtsv.write('\\t'.join(headers) + '\\n')\n",
    "    for row in rows:\n",
    "        logtsv.write('\\t'.join(row) + '\\n')"
   ]
  },
  {
   "cell_type": "code",
   "execution_count": 5,
   "id": "1c507d6f",
   "metadata": {
    "deletable": false,
    "editable": false,
    "nbgrader": {
     "cell_type": "code",
     "checksum": "0423c7b3167b4b74060cf441d2dc344b",
     "grade": true,
     "grade_id": "cell-1671c3f106d5da7d",
     "locked": true,
     "points": 3,
     "schema_version": 3,
     "solution": false,
     "task": false
    }
   },
   "outputs": [],
   "source": [
    "# TEST\n",
    "file = open('log.tsv', 'r')\n",
    "log = file.read()\n",
    "file.close()\n",
    "file = open('correct_log.tsv', 'r')\n",
    "correct_log = file.read()\n",
    "file.close()\n",
    "assert log == correct_log"
   ]
  },
  {
   "cell_type": "markdown",
   "id": "804be566",
   "metadata": {},
   "source": [
    "## Khám phá dữ liệu"
   ]
  },
  {
   "cell_type": "markdown",
   "id": "d4673a3c",
   "metadata": {},
   "source": [
    "### Dữ liệu có bao nhiêu dòng và bao nhiêu cột? (0.5đ)"
   ]
  },
  {
   "cell_type": "markdown",
   "id": "8cb31291",
   "metadata": {},
   "source": [
    "Đầu tiên, bạn sẽ đọc dữ liệu từ file \"log.tsv\" (nếu phần thu thập dữ liệu bạn làm chưa đúng thì bạn có thể đọc từ file \"correct_log.tsv\" mà mình đã cung cấp). Bạn lưu kết quả đọc được vào biến `cols`. Biến `cols` là một dictionary, trong đó mỗi phần tử ứng với một cột, key là chuỗi ứng với tên cột, value là list chứa các giá trị của cột (mỗi giá trị bạn cứ tạm để kiểu dữ liệu là chuỗi).\n",
    "\n",
    "Kế tiếp, từ biến `cols`, bạn sẽ tính số dòng và số cột, rồi lần lượt lưu vào hai biến là `num_rows` và `num_cols`."
   ]
  },
  {
   "cell_type": "code",
   "execution_count": 6,
   "id": "3e6f19fd",
   "metadata": {
    "deletable": false,
    "nbgrader": {
     "cell_type": "code",
     "checksum": "2129a14a7289ce808929d5a67e787a07",
     "grade": false,
     "grade_id": "cell-f2f6dbf283e0ccee",
     "locked": false,
     "schema_version": 3,
     "solution": true,
     "task": false
    }
   },
   "outputs": [],
   "source": [
    "# YOUR CODE HERE\n",
    "cols = {}\n",
    "for field in headers:\n",
    "    cols[field] = []\n",
    "with open('log.tsv', 'r') as logtsv:\n",
    "    logtsv.readline()\n",
    "    for l in logtsv:\n",
    "        line = l.strip('\\n')\n",
    "        cells = line.split('\\t')\n",
    "        for field, cell in zip(headers, cells):\n",
    "            cols[field].append(cell)\n",
    "\n",
    "num_cols = len(cols)\n",
    "num_rows = len(cols[headers[0]])"
   ]
  },
  {
   "cell_type": "code",
   "execution_count": 7,
   "id": "f7e3e0ee",
   "metadata": {
    "deletable": false,
    "editable": false,
    "nbgrader": {
     "cell_type": "code",
     "checksum": "b8aeec5e8bb7d4402d3ade6077db687d",
     "grade": true,
     "grade_id": "cell-cae77558e0985b8d",
     "locked": true,
     "points": 0.5,
     "schema_version": 3,
     "solution": false,
     "task": false
    }
   },
   "outputs": [],
   "source": [
    "# TEST\n",
    "assert num_rows == 1928\n",
    "assert num_cols == 7\n",
    "assert set(cols.keys()) == set(['Id', 'ParentIds', 'AuthorName', \n",
    "                                'AuthorEmail', 'AuthorDate', 'Subject', \n",
    "                                'ChangedFiles'])\n",
    "id_col_len = len(cols['Id'])\n",
    "for col_name in cols:\n",
    "    assert len(cols[col_name]) == id_col_len"
   ]
  },
  {
   "cell_type": "markdown",
   "id": "3d440322",
   "metadata": {},
   "source": [
    "### Mỗi dòng có ý nghĩa gì? Có vấn đề các dòng có ý nghĩa khác nhau không?"
   ]
  },
  {
   "cell_type": "markdown",
   "id": "2bf7cc38",
   "metadata": {},
   "source": [
    "Mỗi dòng ứng với một commit. Có vẻ không có dòng nào \"lạc loài\" (nghĩa là không có vấn đề các dòng có ý nghĩa khác nhau)."
   ]
  },
  {
   "cell_type": "markdown",
   "id": "dfd3b9ac",
   "metadata": {},
   "source": [
    "### Dữ liệu có các dòng bị lặp không? (0.25đ)"
   ]
  },
  {
   "cell_type": "markdown",
   "id": "ea9d9c8f",
   "metadata": {},
   "source": [
    "Có lẽ là không có. Để chắc ăn thì một cách là ta có thể check cột \"Id\"; nếu cột \"Id\" không có giá trị bị lặp thì có thể kết luận là không có dòng bị lặp. Bạn sẽ làm vụ này và lưu kết quả check vào biến `duplicated_id`; biến này bằng True nếu cột \"Id\" có giá trị lặp và bằng False nếu ngược lại."
   ]
  },
  {
   "cell_type": "code",
   "execution_count": 8,
   "id": "c1625ffc",
   "metadata": {
    "deletable": false,
    "nbgrader": {
     "cell_type": "code",
     "checksum": "1a76647c83c980ad5211ae3face16788",
     "grade": false,
     "grade_id": "cell-31e053e964e6c9eb",
     "locked": false,
     "schema_version": 3,
     "solution": true,
     "task": false
    }
   },
   "outputs": [],
   "source": [
    "# YOUR CODE HERE\n",
    "duplicated_id = len(cols['Id']) != len(set(cols['Id']))"
   ]
  },
  {
   "cell_type": "code",
   "execution_count": 9,
   "id": "e0516bc2",
   "metadata": {
    "deletable": false,
    "editable": false,
    "nbgrader": {
     "cell_type": "code",
     "checksum": "42bf24e55c7bd536e139c6244328b218",
     "grade": true,
     "grade_id": "cell-ab5957518b489fa7",
     "locked": true,
     "points": 0.25,
     "schema_version": 3,
     "solution": false,
     "task": false
    }
   },
   "outputs": [],
   "source": [
    "# TEST\n",
    "assert duplicated_id == False"
   ]
  },
  {
   "cell_type": "markdown",
   "id": "f019928b",
   "metadata": {},
   "source": [
    "### Mỗi cột có ý nghĩa gì?"
   ]
  },
  {
   "cell_type": "markdown",
   "id": "b9b22dd7",
   "metadata": {},
   "source": [
    "Vụ này mình đã nói lúc thu thập dữ liệu. Ở đây, mình ghi lại một lần nữa:\n",
    "\n",
    "- \"Id\" là id (hash) dạng viết gọn của commit\n",
    "- \"ParentIds\" là id dạng viết gọn của (các) commit cha\n",
    "- \"AuthorName\" là tên của tác giả\n",
    "- \"AuthorEmail\" là email của tác giả\n",
    "- \"AuthorDate\" là ngày tác giả thực hiện commit\n",
    "- \"Subject\" là tựa đề của message (message tương tự như email, ngoài phần \"subject\" thì có thể có thêm phần \"body\"; ở đây ta chỉ lấy phần \"subject\")\n",
    "- \"ChangedFiles\": các file bị thay đổi, nếu có nhiều file thì các file được phân tách bởi dấu phẩy"
   ]
  },
  {
   "cell_type": "markdown",
   "id": "8f0a41a1",
   "metadata": {},
   "source": [
    "### Mỗi cột hiện đang có kiểu dữ liệu gì? Có cột nào có kiểu dữ liệu chưa phù hợp để có thể xử lý tiếp không?"
   ]
  },
  {
   "cell_type": "markdown",
   "id": "b7268c8f",
   "metadata": {},
   "source": [
    "- Các cột \"Id\", \"ParentIds\", \"AuthorName\", \"AuthorEmail\", \"Subject\": kiểu dữ liệu dạng chuỗi là đúng rồi\n",
    "- Cột \"ChangedFiles\": hmm ... có lẽ tạm thời ta vẫn để dạng chuỗi, có gì cần thì ta sẽ xử lý sau\n",
    "- Cột \"AuthorDate\": cần chuyển từ kiểu dữ liệu dạng chuỗi sang datetime; để có thể tiếp tục khám phá tiếp thì ngay sau đây bạn sẽ tiền xử lý vụ này luôn"
   ]
  },
  {
   "cell_type": "markdown",
   "id": "eb45766a",
   "metadata": {},
   "source": [
    "---"
   ]
  },
  {
   "cell_type": "markdown",
   "id": "b94eccc0",
   "metadata": {},
   "source": [
    "## Tiền xử lý (0.5đ)"
   ]
  },
  {
   "cell_type": "markdown",
   "id": "07367649",
   "metadata": {},
   "source": [
    "Ở đây, bạn sẽ chuyển cột \"AuthorDate\" từ dạng chuỗi sang datetime. <font color=gray>Gợi ý: bạn xem [document](https://docs.python.org/3/library/datetime.html#strftime-and-strptime-format-codes) để biết cách truyền format phù hợp cho hàm `strptime`.</font>"
   ]
  },
  {
   "cell_type": "code",
   "execution_count": 10,
   "id": "4f5f670c",
   "metadata": {
    "deletable": false,
    "nbgrader": {
     "cell_type": "code",
     "checksum": "758261b3f6045b402f5abb5f4b080bb4",
     "grade": false,
     "grade_id": "cell-742e74182a9d1936",
     "locked": false,
     "schema_version": 3,
     "solution": true,
     "task": false
    }
   },
   "outputs": [],
   "source": [
    "# YOUR CODE HERE\n",
    "for i in range(len(cols['AuthorDate'])):\n",
    "    cols['AuthorDate'][i] = datetime.datetime.strptime(cols['AuthorDate'][i], '%a, %d %b %Y %H:%M:%S %z')"
   ]
  },
  {
   "cell_type": "code",
   "execution_count": 11,
   "id": "d3745ce5",
   "metadata": {
    "deletable": false,
    "editable": false,
    "nbgrader": {
     "cell_type": "code",
     "checksum": "5eca1fcb2e213809282e22ef9e6c8dfe",
     "grade": true,
     "grade_id": "cell-c551b6a15162bb10",
     "locked": true,
     "points": 0.5,
     "schema_version": 3,
     "solution": false,
     "task": false
    }
   },
   "outputs": [],
   "source": [
    "# TEST\n",
    "assert type(cols['AuthorDate'][0]) == datetime.datetime\n",
    "assert cols['AuthorDate'][0] == datetime.datetime(2021, 4, 20, 12, 27, 9, \n",
    "            tzinfo=datetime.timezone(datetime.timedelta(seconds=3600)))"
   ]
  },
  {
   "cell_type": "markdown",
   "id": "53154bef",
   "metadata": {},
   "source": [
    "## Khám phá dữ liệu (tiếp tục)"
   ]
  },
  {
   "cell_type": "markdown",
   "id": "d651709d",
   "metadata": {},
   "source": [
    "### Với mỗi cột có kiểu dữ liệu dạng số (numeric) và dạng datetime, các giá trị được phân bố như thế nào? (0.5đ)"
   ]
  },
  {
   "cell_type": "markdown",
   "id": "0d592408",
   "metadata": {},
   "source": [
    "Ở đây thì không có cột dạng số, chỉ có một cột dạng datetime là cột \"AuthorDate\".\n",
    "\n",
    "Đầu tiên, bạn tính tỉ lệ % các giá trị thiếu của cột \"AuthorDate\". <font color=gray>Gợi ý: không cần code, có thể lập luận dựa vào kết quả khi chuyển cột \"AuthorDate\" từ dạng chuỗi sang datetime ở bên trên.</font>"
   ]
  },
  {
   "cell_type": "markdown",
   "id": "38cc0dc8",
   "metadata": {
    "deletable": false,
    "nbgrader": {
     "cell_type": "markdown",
     "checksum": "0d29851ae39f01d9ed0d34f4891a918b",
     "grade": true,
     "grade_id": "cell-47e2584daf9dda74",
     "locked": false,
     "points": 0.25,
     "schema_version": 3,
     "solution": true,
     "task": false
    }
   },
   "source": [
    "0% do không xảy ra lỗi ở bất kỳ ô nào trong quá trình parse."
   ]
  },
  {
   "cell_type": "markdown",
   "id": "109537c1",
   "metadata": {},
   "source": [
    "Tiếp theo, bạn tính min và max của cột \"AuthorDate\", rồi lần lượt lưu vào hai biến `author_date_min` và `author_date_max`."
   ]
  },
  {
   "cell_type": "code",
   "execution_count": 12,
   "id": "154c41c1",
   "metadata": {
    "deletable": false,
    "nbgrader": {
     "cell_type": "code",
     "checksum": "5abe340e46e2811a6fa8c3fea2bf7dd6",
     "grade": false,
     "grade_id": "cell-ed5647763d70e921",
     "locked": false,
     "schema_version": 3,
     "solution": true,
     "task": false
    }
   },
   "outputs": [],
   "source": [
    "# YOUR CODE HERE\n",
    "# raise NotImplementedError()\n",
    "author_date_min, author_date_max = min(cols['AuthorDate']), max(cols['AuthorDate'])"
   ]
  },
  {
   "cell_type": "code",
   "execution_count": 13,
   "id": "b713da5b",
   "metadata": {
    "deletable": false,
    "editable": false,
    "nbgrader": {
     "cell_type": "code",
     "checksum": "c7fd8957fa8f92f3f85288d8cc249fba",
     "grade": true,
     "grade_id": "cell-8bb55737a75c0a6e",
     "locked": true,
     "points": 0.25,
     "schema_version": 3,
     "solution": false,
     "task": false
    }
   },
   "outputs": [],
   "source": [
    "# TEST\n",
    "assert author_date_min == datetime.datetime(2015, 11, 9, 13, 13, 28, \n",
    "            tzinfo=datetime.timezone(datetime.timedelta(seconds=3600)))\n",
    "assert author_date_max == datetime.datetime(2021, 4, 20, 12, 27, 9, \n",
    "            tzinfo=datetime.timezone(datetime.timedelta(seconds=3600)))"
   ]
  },
  {
   "cell_type": "markdown",
   "id": "1e7d1c90",
   "metadata": {},
   "source": [
    "Hmm ... Min và max của cột \"AuthorDate\" không có gì bất thường."
   ]
  },
  {
   "cell_type": "markdown",
   "id": "49a7a821",
   "metadata": {},
   "source": [
    "### Với mỗi cột có kiểu dữ liệu dạng phân loại (categorical), các giá trị được phân bố như thế nào? (1.75đ)"
   ]
  },
  {
   "cell_type": "markdown",
   "id": "9ed2a095",
   "metadata": {},
   "source": [
    "Các cột dạng phân loại là các cột mà không phải là cột \"AuthorDate\". Bạn sẽ lưu thông tin của các cột này vào biến `cate_col_profiles`. Biến này là một dictionary, trong đó mỗi phần tử ứng với một cột dạng phân loại, key là tên cột, value là list gồm: tỉ lệ % giá trị thiếu, số lượng các giá trị khác nhau (không tính giá trị thiếu), set chứa các giá trị khác nhau (không bao gồm giá trị thiếu)."
   ]
  },
  {
   "cell_type": "code",
   "execution_count": 14,
   "id": "f41b8828",
   "metadata": {
    "deletable": false,
    "nbgrader": {
     "cell_type": "code",
     "checksum": "3317a65ff1cce4222cc0a63602dcaef9",
     "grade": false,
     "grade_id": "cell-d9eb895996d7b157",
     "locked": false,
     "schema_version": 3,
     "solution": true,
     "task": false
    },
    "scrolled": true
   },
   "outputs": [],
   "source": [
    "# YOUR CODE HERE\n",
    "# raise NotImplementedError()\n",
    "cate_cols = copy.copy(headers)\n",
    "cate_cols.remove('AuthorDate')\n",
    "\n",
    "cate_col_profiles = {}\n",
    "for col in cate_cols:\n",
    "    cate_col_profiles[col] = []\n",
    "    \n",
    "    num_missing_values = cols[col].count('')\n",
    "    missing_percentage = num_missing_values / len(cols[col]) * 100\n",
    "    \n",
    "    unique_values = set(cols[col])\n",
    "    if '' in unique_values: unique_values.remove('')\n",
    "    num_unique_values = len(unique_values)\n",
    "    \n",
    "    cate_col_profiles[col].extend([missing_percentage, num_unique_values, unique_values])"
   ]
  },
  {
   "cell_type": "code",
   "execution_count": 15,
   "id": "c2b2d0d3",
   "metadata": {
    "deletable": false,
    "editable": false,
    "nbgrader": {
     "cell_type": "code",
     "checksum": "53f116101747d9d3c845e486cb8ab2e8",
     "grade": true,
     "grade_id": "cell-50123f76f79e1f27",
     "locked": true,
     "points": 1,
     "schema_version": 3,
     "solution": false,
     "task": false
    }
   },
   "outputs": [],
   "source": [
    "# TEST\n",
    "assert set(cate_col_profiles.keys()) == {'AuthorEmail', 'AuthorName', \n",
    "                                         'ChangedFiles', 'Id', \n",
    "                                         'ParentIds', 'Subject'}\n",
    "for col_name, col_profile in cate_col_profiles.items():\n",
    "    assert len(col_profile) == 3\n",
    "    assert len(col_profile[2]) == col_profile[1]\n",
    "assert round(cate_col_profiles['ParentIds'][0], 3) == 0.052\n",
    "assert round(cate_col_profiles['ChangedFiles'][0], 3) == 16.079\n",
    "assert cate_col_profiles['ParentIds'][1] == 1820\n",
    "assert cate_col_profiles['ChangedFiles'][1] == 842"
   ]
  },
  {
   "cell_type": "code",
   "execution_count": 16,
   "id": "f332814f",
   "metadata": {},
   "outputs": [
    {
     "name": "stdout",
     "output_type": "stream",
     "text": [
      "ColName      Miss(%) NumDifVals SomeVals\n",
      "Id           0.000   1928       {'7d46bb0', '9204e59', 'd24fe80', ...\n",
      "ParentIds    0.052   1820       {'7d46bb0', '9204e59', '4115189', ...\n",
      "AuthorName   0.000   34         {'Alex Bozarth', 'K.-Michael Aye',...\n",
      "AuthorEmail  0.000   34         {'nbollweg@continuum.io', 'florian...\n",
      "Subject      0.000   1860       {'With alterify, notify user on sa...\n",
      "ChangedFiles 16.079  842        {'nbdime/diffing/generic.py,nbdime...\n"
     ]
    }
   ],
   "source": [
    "# TEST (BY EYES)\n",
    "print(f\"{'ColName':12} {'Miss(%)':7} {'NumDifVals':10} {'SomeVals'}\")\n",
    "for col_name, col_profile in cate_col_profiles.items():\n",
    "    print(f'{col_name:12} {col_profile[0]:<7.3f} {col_profile[1]:<10} {col_profile[2].__repr__()[:34]+\"...\":<}')"
   ]
  },
  {
   "cell_type": "markdown",
   "id": "80b141f0",
   "metadata": {},
   "source": [
    "Bạn quan sát kết quả in ra ở trên (tạm thời chưa để ý đến cột \"Miss(%)\") và cho biết có gì bất thường không? Hay mọi thứ đều bình thường? Cho mình biết tại sao bạn lại kết luận như vậy."
   ]
  },
  {
   "cell_type": "markdown",
   "id": "5f0862e3",
   "metadata": {
    "deletable": false,
    "nbgrader": {
     "cell_type": "markdown",
     "checksum": "6b4e0ea35fa2498c8ca58017183e5ca7",
     "grade": true,
     "grade_id": "cell-88055a6ed4991805",
     "locked": false,
     "points": 0.25,
     "schema_version": 3,
     "solution": true,
     "task": false
    }
   },
   "source": [
    "Không có điều gì bất thường:\n",
    "* Cột Id có có 1920 giá trị khác nhau, bằng với số record\n",
    "* Có 34 tác giả và 34 email khác nhau"
   ]
  },
  {
   "cell_type": "markdown",
   "id": "262f05c9",
   "metadata": {},
   "source": [
    "Kế tiếp, bạn hãy cho in ra các dòng mà có giá trị thiếu (in sao là tùy bạn, miễn là dễ nhìn). Sau đó, bạn hãy quan sát các dòng này để xem tại sao lại bị thiếu (trong trường hợp, bạn không biết tại sao thì cứ ghi nhận là không biết tại sao)."
   ]
  },
  {
   "cell_type": "code",
   "execution_count": 17,
   "id": "b436b01c",
   "metadata": {
    "deletable": false,
    "nbgrader": {
     "cell_type": "code",
     "checksum": "d1a9502c7c37ba7b6600579bec4e5627",
     "grade": true,
     "grade_id": "cell-fda56cd71a2bb407",
     "locked": false,
     "points": 0.25,
     "schema_version": 3,
     "solution": true,
     "task": false
    }
   },
   "outputs": [
    {
     "name": "stdout",
     "output_type": "stream",
     "text": [
      "Id\t| ParentIds\t| AuthorName\t| AuthorEmail\t| AuthorDate\t| Subject\t| ChangedFiles\n",
      "524aac2 | 2994fb4 e4e696c | Vidar Tonaas Fauske | vidartf@gmail.com | 2021-04-20 12:27:09+01:00 | Merge pull request #586 from fcollonval/fcollonval/issue583 | \n",
      "ab8e60d | f1e18ff 23e0cc9 | Vidar Tonaas Fauske | vidartf@gmail.com | 2021-04-14 18:01:22+01:00 | Merge pull request #581 from vidartf/clenaup | \n",
      "f1e18ff | 52f7990 6c1ce97 | Vidar Tonaas Fauske | vidartf@gmail.com | 2021-04-14 17:27:12+01:00 | Merge pull request #572 from fcollonval/ft/federated-package | \n",
      "52f7990 | 8ce708c 25252f6 | Vidar Tonaas Fauske | vidartf@gmail.com | 2021-04-13 19:03:43+01:00 | Merge pull request #580 from fcollonval/fix/follow-up-576 | \n",
      "8ce708c | 4291b8c dea43d6 | Vidar Tonaas Fauske | vidartf@gmail.com | 2021-04-12 01:40:45+01:00 | Merge pull request #566 from krassowski/fix-cell-id-tests | \n",
      "075f502 | 2d1edb8 4291b8c | Vidar Tonaas Fauske | vidartf@gmail.com | 2021-04-11 21:05:11+01:00 | Merge branch 'master' into pr/566 | \n",
      "4291b8c | ab9f1bc 86c28f7 | Vidar Tonaas Fauske | vidartf@gmail.com | 2021-04-11 21:02:58+01:00 | Merge pull request #579 from vidartf/mathjax-server-ext | \n",
      "ab9f1bc | c823623 295e834 | Vidar Tonaas Fauske | vidartf@gmail.com | 2021-04-11 14:05:53+01:00 | Merge pull request #576 from fcollonval/ft/jest | \n",
      "fe2911a | c38cfc5 25101fe | Michał Krassowski | 5832902+krassowski@users.noreply.github.com | 2021-03-07 11:10:34+00:00 | Merge pull request #1 from vidartf/id-tests | \n",
      "a0726e5 | 75363a0 8c52de8 | Vidar Tonaas Fauske | vidartf@gmail.com | 2021-01-14 19:02:43+00:00 | Merge pull request #551 from ajbozarth/lab3 | \n",
      "75363a0 | f6beb60 206fee8 | Vidar Tonaas Fauske | vidartf@gmail.com | 2021-01-07 15:04:07+00:00 | Merge pull request #557 from jupyter/docs-details | \n",
      "f6beb60 | 92fc22d 4b1129b | Vidar Tonaas Fauske | vidartf@gmail.com | 2020-10-02 20:41:04+02:00 | Merge pull request #546 from vidartf/merge-fixes | \n",
      "77cac58 | b707946 ca3b311 | Vidar Tonaas Fauske | vidartf@gmail.com | 2020-09-29 14:18:15+02:00 | Merge pull request #545 from vidartf/tool-beacon | \n",
      "b707946 | 141b2dc 598c072 | Vidar Tonaas Fauske | vidartf@gmail.com | 2020-09-29 12:48:55+02:00 | Merge pull request #543 from vidartf/limit-stream-diff | \n",
      "141b2dc | 0f0a90a 4d2e319 | Vidar Tonaas Fauske | vidartf@gmail.com | 2020-09-29 12:19:15+02:00 | Merge pull request #544 from vidartf/fix-merge-empty-base | \n",
      "f259cae | 8804407 eaf9c06 | Vidar Tonaas Fauske | vidartf@gmail.com | 2020-09-25 16:16:16+01:00 | Merge pull request #538 from deanp70/master | \n",
      "eaf9c06 | bf5a540 a20c789 | Vidar Tonaas Fauske | vidartf@gmail.com | 2020-09-25 16:57:36+02:00 | Merge branch 'wip' into pr/538 | \n",
      "d330173 | 133c4bf 2cd6efe | Vidar Tonaas Fauske | vidartf@gmail.com | 2020-03-09 15:12:53+00:00 | Merge pull request #518 from vidartf/test-cleanup | \n",
      "133c4bf | a9435d5 326da89 | Vidar Tonaas Fauske | vidartf@gmail.com | 2020-03-09 13:59:06+00:00 | Merge pull request #517 from vidartf/no-net | \n",
      "a9435d5 | a506b66 d4f8247 | Vidar Tonaas Fauske | vidartf@gmail.com | 2020-03-09 13:14:12+00:00 | Merge pull request #516 from vidartf/th-config | \n",
      "a506b66 | d067442 fed6e17 | Min RK | benjaminrk@gmail.com | 2020-03-06 21:54:19+01:00 | Merge pull request #514 from jupyter/vidartf-patch-1 | \n",
      "d067442 | d9cbd7b 9b67c6c | Vidar Tonaas Fauske | vidartf@gmail.com | 2020-03-05 19:02:08+00:00 | Merge pull request #515 from vidartf/cleanup | \n",
      "d9cbd7b | 425c46d f036d20 | Vidar Tonaas Fauske | vidartf@gmail.com | 2020-03-05 11:16:54+00:00 | Merge pull request #512 from blink1073/jlab-2.0-final | \n",
      "425c46d | 6259cd0 ce08ccf | Min RK | benjaminrk@gmail.com | 2020-01-23 10:10:37+01:00 | Merge pull request #508 from blink1073/jlab-2.0 | \n",
      "6259cd0 | 137182a 0dbe870 | Vidar Tonaas Fauske | vidartf@gmail.com | 2019-11-20 13:34:11+00:00 | Merge pull request #502 from kynan/long-description | \n",
      "137182a | a9faba1 cd528a8 | Vidar Tonaas Fauske | vidartf@gmail.com | 2019-11-19 10:30:48+00:00 | Merge pull request #504 from minrk/drop-py2 | \n",
      "a9faba1 | cdadb44 e114af0 | Vidar Tonaas Fauske | vidartf@gmail.com | 2019-08-31 23:59:56+01:00 | Merge pull request #498 from dniku/master | \n",
      "cdadb44 | ec065a7 0810fa3 | Vidar Tonaas Fauske | vidartf@gmail.com | 2019-08-07 11:33:11+01:00 | Merge pull request #491 from dotmesh-io/addrange-removerange-conflict-take-2 | \n",
      "300067c | 0590d1b b9d972e | Vidar Tonaas Fauske | vidartf@gmail.com | 2019-07-25 16:19:17+02:00 | Merge pull request #483 from vidartf/labupdate | \n",
      "0590d1b | 1f864d2 c3c652e | Vidar Tonaas Fauske | vidartf@gmail.com | 2019-06-14 13:46:59+01:00 | Merge pull request #477 from vidartf/web-config | \n",
      "fabbeb7 | ba18b56 b75bfa7 | Vidar Tonaas Fauske | vidartf@gmail.com | 2019-05-16 14:36:28+01:00 | Merge pull request #475 from vidartf/fix-styling | \n",
      "ba18b56 | c2635db 0509d39 | Vidar Tonaas Fauske | vidartf@gmail.com | 2019-04-29 13:18:14+02:00 | Merge pull request #466 from lebedov/nbshow-colorize | \n",
      "8940d58 | 0910bcd 4f5cdde | Vidar Tonaas Fauske | vidartf@gmail.com | 2019-03-05 16:18:55+01:00 | Merge pull request #465 from Godley/master | \n",
      "0910bcd | b8c7829 95fe0aa | Vidar Tonaas Fauske | vidartf@gmail.com | 2019-03-04 11:04:48+01:00 | Merge pull request #462 from vidartf/fix-cm-max-height | \n",
      "b8c7829 | 91ac9bf 384acd9 | Vidar Tonaas Fauske | vidartf@gmail.com | 2019-03-04 10:41:31+01:00 | Merge pull request #463 from Godley/master | \n",
      "91ac9bf | 31b716e 8e65719 | Vidar Tonaas Fauske | vidartf@gmail.com | 2019-03-01 15:28:46+01:00 | Merge pull request #460 from jupyter/fa-https | \n",
      "31b716e | 07714c0 5ab35e7 | Vidar Tonaas Fauske | vidartf@gmail.com | 2019-03-01 09:09:47+01:00 | Merge pull request #457 from minrk/remote-access | \n",
      "07714c0 | 435ce3b f79fd54 | Min RK | benjaminrk@gmail.com | 2019-02-28 13:00:30+01:00 | Merge pull request #450 from vidartf/fix-unhide-update | \n",
      "435ce3b | d71758d 027145e | Vidar Tonaas Fauske | vidartf@gmail.com | 2019-02-18 10:59:47+01:00 | Merge pull request #454 from minrk/path-arg-type | \n",
      "c24fc22 | 5a92521 93095de | Vidar Tonaas Fauske | vidartf@gmail.com | 2018-12-18 14:43:42+01:00 | Merge pull request #441 from vidartf/oldgit | \n",
      "5a92521 | ed222a2 eac7bc6 | Vidar Tonaas Fauske | vidartf@gmail.com | 2018-11-19 11:39:50+01:00 | Merge pull request #438 from vidartf/empty-merge-base | \n",
      "ed222a2 | d44e3b5 b669e85 | Vidar Tonaas Fauske | vidartf@gmail.com | 2018-11-19 10:52:29+01:00 | Merge pull request #439 from vidartf/chore-tests | \n",
      "abdde8f | 20e07f4 58c5197 | Vidar Tonaas Fauske | vidartf@gmail.com | 2018-10-18 12:49:58+02:00 | Merge pull request #433 from vidartf/fix-nbmerge-doc | \n",
      "d3a0962 | 60a93bc fefdbe5 | Vidar Tonaas Fauske | vidartf@gmail.com | 2018-10-08 14:09:02+02:00 | Merge pull request #430 from vidartf/update-lab | \n",
      "959ce75 | 98c3af9 091bdea | Vidar Tonaas Fauske | vidartf@gmail.com | 2018-10-05 13:35:45+02:00 | Merge pull request #421 from vidartf/fix-mathjax | \n",
      "98c3af9 | 98bf4dc 9d36c6b | Vidar Tonaas Fauske | vidartf@gmail.com | 2018-09-27 16:54:58+02:00 | Merge pull request #429 from vidartf/lint2 | \n",
      "98bf4dc | c968e6f ac9647b | Vidar Tonaas Fauske | vidartf@gmail.com | 2018-09-27 13:31:22+02:00 | Merge pull request #428 from vidartf/config-pp | \n",
      "c968e6f | d070da0 0970ed3 | Vidar Tonaas Fauske | vidartf@gmail.com | 2018-09-14 11:38:07+02:00 | Merge pull request #424 from vidartf/unchanged | \n",
      "eef0e50 | 14137b6 c591417 | Vidar Tonaas Fauske | vidartf@gmail.com | 2018-09-03 17:32:01+02:00 | Merge pull request #422 from vidartf/fix-mergetool-save | \n",
      "559bae6 | 039c821 7111b70 | Vidar Tonaas Fauske | vidartf@gmail.com | 2018-08-29 15:52:41+02:00 | Merge pull request #420 from vidartf/lab-update | \n",
      "fb6484a | 3d7d95e 54cf807 | Vidar Tonaas Fauske | vidartf@gmail.com | 2018-08-16 15:15:47+02:00 | Merge pull request #416 from vidartf/fix-filter | \n",
      "3fc3e9a | a93b42c abc3939 | Vidar Tonaas Fauske | vidartf@gmail.com | 2018-07-31 16:27:23+02:00 | Merge pull request #407 from vidartf/deps | \n",
      "a93b42c | 9cf252c 4605e25 | Vidar Tonaas Fauske | vidartf@gmail.com | 2018-07-31 15:03:05+02:00 | Merge pull request #409 from vidartf/workaround-localhosts | \n",
      "9cf252c | fc1af0c ff9642c | Vidar Tonaas Fauske | vidartf@gmail.com | 2018-06-25 16:21:55+02:00 | Merge pull request #403 from vidartf/fix-config | \n",
      "fc1af0c | 69585e7 229bd68 | Vidar Tonaas Fauske | vidartf@gmail.com | 2018-06-25 15:58:30+02:00 | Merge pull request #400 from vidartf/optimize-diff2 | \n",
      "220bc1f | cf45e47 7df4bc8 | Vidar Tonaas Fauske | vidartf@gmail.com | 2018-06-19 15:49:15+02:00 | Merge pull request #399 from vidartf/fix-dependency | \n",
      "cf45e47 | 7748bd5 020a00d | Vidar Tonaas Fauske | vidartf@gmail.com | 2018-06-19 15:44:07+02:00 | Merge pull request #398 from vidartf/tweak-config | \n",
      "7748bd5 | a83fdb1 e39f5e7 | Vidar Tonaas Fauske | vidartf@gmail.com | 2018-06-19 10:37:20+02:00 | Merge pull request #397 from vidartf/doc-dev-install | \n",
      "f0d66a6 | 0e47f41 035b3d6 | Vidar Tonaas Fauske | vidartf@gmail.com | 2018-06-18 10:58:51+02:00 | Merge pull request #395 from vidartf/focus-edit | \n",
      "0e47f41 | 32df48a e675aa0 | Vidar Tonaas Fauske | vidartf@gmail.com | 2018-06-15 12:33:39+02:00 | Merge pull request #394 from vidartf/ext-ignore-flags | \n",
      "32df48a | f50d8e5 c8cfaa0 | Vidar Tonaas Fauske | vidartf@gmail.com | 2018-06-14 13:18:12+02:00 | Merge pull request #393 from vidartf/devinstall | \n",
      "f50d8e5 | bf8da35 fa0590c | Vidar Tonaas Fauske | vidartf@gmail.com | 2018-06-13 15:04:38+02:00 | Merge pull request #390 from vidartf/config-cleanup | \n",
      "bf8da35 | 83976ac 4c2f423 | Vidar Tonaas Fauske | vidartf@gmail.com | 2018-06-13 13:32:34+02:00 | Merge pull request #389 from vidartf/nbconfig-fix | \n",
      "c30847b | ef9d708 e18d8b6 | Vidar Tonaas Fauske | vidartf@gmail.com | 2018-06-11 13:44:06+02:00 | Merge pull request #384 from vidartf/config-fix | \n",
      "ef9d708 | 1bb9458 e67a71d | Vidar Tonaas Fauske | vidartf@gmail.com | 2018-06-11 13:43:34+02:00 | Merge pull request #385 from vidartf/fix-style | \n",
      "1bb9458 | 25878a5 151415d | Vidar Tonaas Fauske | vidartf@gmail.com | 2018-06-11 09:55:30+02:00 | Merge pull request #382 from toddrme2178/patch-1 | \n",
      "25878a5 | 0234912 35309cd | Vidar Tonaas Fauske | vidartf@gmail.com | 2018-06-08 15:51:31+02:00 | Merge pull request #381 from vidartf/fix-python-spec | \n",
      "0234912 | e510209 8c614c0 | Vidar Tonaas Fauske | vidartf@gmail.com | 2018-06-08 15:51:23+02:00 | Merge pull request #380 from vidartf/inline-source | \n",
      "e510209 | 0e1c4d6 5371adc | Vidar Tonaas Fauske | vidartf@gmail.com | 2018-05-24 15:20:44+02:00 | Merge pull request #378 from vidartf/fix-dot-diff | \n",
      "1b332c8 | ffaaf75 e96b96d | Vidar Tonaas Fauske | vidartf@gmail.com | 2018-05-15 10:11:58+02:00 | Merge pull request #377 from vidartf/lab-fixes | \n",
      "ffaaf75 | 28a436b 031c2dc | Vidar Tonaas Fauske | vidartf@gmail.com | 2018-05-14 19:38:41+02:00 | Merge pull request #376 from vidartf/collapser | \n",
      "28a436b | b7ececa 8ad275e | Vidar Tonaas Fauske | vidartf@gmail.com | 2018-05-14 18:20:37+02:00 | Merge pull request #375 from vidartf/cleanup | \n",
      "52e68c8 | 09ce7af 4b55685 | Vidar Tonaas Fauske | vidartf@gmail.com | 2018-05-08 11:22:49+02:00 | Merge pull request #374 from vidartf/manual-edit-extract | \n",
      "09ce7af | bd9873c 0d197ea | Vidar Tonaas Fauske | vidartf@gmail.com | 2018-05-07 14:34:51+02:00 | Merge pull request #371 from vidartf/chunks | \n",
      "bd9873c | f330467 fdaf9c3 | Vidar Tonaas Fauske | vidartf@gmail.com | 2018-05-07 09:46:47+02:00 | Merge pull request #372 from minrk/utf-8 | \n",
      "f330467 | 789e5b4 ba00a8d | Vidar Tonaas Fauske | vidartf@gmail.com | 2018-05-04 16:12:33+02:00 | Merge pull request #370 from vidartf/cleanup | \n",
      "2656120 | 145efe3 | Vidar Tonaas Fauske | vidartf@gmail.com | 2018-05-03 14:51:52+02:00 | nbdime-jupyterlab@0.1.0 | \n",
      "55d56ee | d59a446 b58a9d8 | Vidar Tonaas Fauske | vidartf@gmail.com | 2018-05-02 20:01:31+02:00 | Merge pull request #369 from vidartf/cleanup | \n",
      "d59a446 | 14c7c0a 1e9d547 | Vidar Tonaas Fauske | vidartf@gmail.com | 2018-05-02 17:38:34+02:00 | Merge pull request #298 from vidartf/jlab-ext | \n",
      "e03c861 | 7914988 ae8f008 | Vidar Tonaas Fauske | vidartf@gmail.com | 2018-04-28 14:01:37+02:00 | Merge pull request #366 from jtpio/patch-1 | \n",
      "7914988 | 0a60cdc 1d7b23d | Vidar Tonaas Fauske | vidartf@gmail.com | 2018-04-27 13:02:59+02:00 | Merge pull request #365 from vidartf/cleanup | \n",
      "0a60cdc | 35c3c96 cbcc974 | Vidar Tonaas Fauske | vidartf@gmail.com | 2018-04-25 15:17:21+02:00 | Merge pull request #363 from vidartf/update_deps | \n",
      "e4b9dc6 | 66cc086 04af6c9 | Vidar Tonaas Fauske | vidartf@gmail.com | 2018-04-03 16:16:49+02:00 | Merge pull request #357 from vidartf/trust-outputs | \n",
      "670e8a0 | 12dd2ab fb5560a | Vidar Tonaas Fauske | vidartf@gmail.com | 2018-03-22 17:16:34+01:00 | Merge pull request #355 from vidartf/config-ignore | \n",
      "77398e0 | f16ecac 6277ec7 | Min RK | benjaminrk@gmail.com | 2018-03-22 17:13:05+01:00 | Merge pull request #354 from vidartf/config | \n",
      "f16ecac | 350f5ca 961c568 | Vidar Tonaas Fauske | vidartf@gmail.com | 2018-03-22 16:43:13+01:00 | Merge pull request #356 from vidartf/fix-differ | \n",
      "350f5ca | 8d6421d 0a8342c | Vidar Tonaas Fauske | vidartf@gmail.com | 2018-03-21 17:26:11+01:00 | Merge pull request #353 from vidartf/test-flags | \n",
      "8d6421d | ac7358f 5c25fd0 | Vidar Tonaas Fauske | vidartf@gmail.com | 2018-03-21 16:56:20+01:00 | Merge pull request #352 from vidartf/ignore-generic | \n",
      "ac7358f | 7c4b998 c155592 | Vidar Tonaas Fauske | vidartf@gmail.com | 2018-03-14 16:50:40+01:00 | Merge pull request #335 from vidartf/git-filter | \n",
      "7c4b998 | c21fd7f 3dd98b6 | Vidar Tonaas Fauske | vidartf@gmail.com | 2018-03-14 16:50:13+01:00 | Merge pull request #350 from vidartf/concurrent-web | \n",
      "c21fd7f | eac0417 c432a92 | Vidar Tonaas Fauske | vidartf@gmail.com | 2018-03-14 16:11:52+01:00 | Merge pull request #349 from vidartf/web-updated | \n",
      "eac0417 | e019d4c 18525fa | Vidar Tonaas Fauske | vidartf@gmail.com | 2018-03-14 15:14:55+01:00 | Merge pull request #347 from vidartf/concurrent-inserts | \n",
      "e019d4c | 05c5047 719f66a | Vidar Tonaas Fauske | vidartf@gmail.com | 2018-03-14 14:49:03+01:00 | Merge pull request #346 from vidartf/persist-flag | \n",
      "05c5047 | f0a36a1 fdf07ba | Vidar Tonaas Fauske | vidartf@gmail.com | 2018-03-14 14:20:22+01:00 | Merge pull request #348 from vidartf/tornado | \n",
      "f0a36a1 | 344a450 6f54c3d | Vidar Tonaas Fauske | vidartf@gmail.com | 2018-02-27 11:19:43+01:00 | Merge pull request #344 from vidartf/jinja-ver | \n",
      "344a450 | 4022e8c 8a69ef3 | Vidar Tonaas Fauske | vidartf@gmail.com | 2018-01-08 15:59:52+01:00 | Merge pull request #340 from vidartf/extension-error-handling | \n",
      "4022e8c | f0284ac 461fd66 | Min RK | benjaminrk@gmail.com | 2018-01-03 13:53:51+01:00 | Merge pull request #339 from vidartf/fix-ext-templates | \n",
      "f0284ac | ff6e1fd 588b9ab | Vidar Tonaas Fauske | vidartf@gmail.com | 2017-12-12 11:10:32+01:00 | Merge pull request #336 from JarnoRFB/master | \n",
      "2354345 | f884858 8345baf | Vidar Tonaas Fauske | vidartf@gmail.com | 2017-11-29 17:11:33+01:00 | Merge pull request #332 from vidartf/log-adjust | \n",
      "f884858 | dfff8ff 92b5b0c | Vidar Tonaas Fauske | vidartf@gmail.com | 2017-11-28 16:57:31+01:00 | Merge pull request #333 from vidartf/difftool-reload | \n",
      "dfff8ff | 7240999 e4a223d | Vidar Tonaas Fauske | vidartf@gmail.com | 2017-11-28 16:16:22+01:00 | Merge pull request #331 from vidartf/server-poll | \n",
      "7240999 | d5a3b66 f883682 | Vidar Tonaas Fauske | vidartf@gmail.com | 2017-11-28 16:16:02+01:00 | Merge pull request #329 from vidartf/mathjax | \n",
      "d5a3b66 | e81d466 0f13db4 | Min RK | benjaminrk@gmail.com | 2017-11-28 15:05:08+01:00 | Merge pull request #330 from vidartf/drop-py3.3 | \n",
      "e81d466 | f7cedce 519db53 | Min RK | benjaminrk@gmail.com | 2017-11-27 13:00:44+01:00 | Merge pull request #326 from vidartf/fix-layout | \n",
      "ce16aec | c1a95e1 3bc3009 | Min RK | benjaminrk@gmail.com | 2017-11-10 15:49:46+01:00 | Merge pull request #322 from vidartf/changelog0.4 | \n",
      "c1a95e1 | cd5403a 380d246 | Min RK | benjaminrk@gmail.com | 2017-11-10 15:31:47+01:00 | Merge pull request #321 from minrk/packaging | \n",
      "06784cd | 13d10af 333a696 | Vidar Tonaas Fauske | vidartf@gmail.com | 2017-11-08 14:27:13+01:00 | Merge pull request #320 from vidartf/webdiff-rel-img | \n",
      "13d10af | 31233af 8d21f14 | Min RK | benjaminrk@gmail.com | 2017-11-08 11:18:59+01:00 | Merge pull request #319 from vidartf/mifor-fixes | \n",
      "31233af | a70fc47 4ac94e0 | Min RK | benjaminrk@gmail.com | 2017-11-07 20:56:36+01:00 | Merge pull request #318 from vidartf/color-words | \n",
      "a70fc47 | 3b51405 a51d525 | Min RK | benjaminrk@gmail.com | 2017-11-07 20:55:26+01:00 | Merge pull request #317 from vidartf/sxs | \n",
      "85b9439 | fd10644 512be11 | Vidar Tonaas Fauske | vidartf@gmail.com | 2017-11-06 17:19:44+01:00 | Merge pull request #316 from minrk/pp-diff-typo | \n",
      "fd10644 | 7bb9fae 864add9 | Vidar Tonaas Fauske | vidartf@gmail.com | 2017-11-06 10:57:29+01:00 | Merge pull request #297 from vidartf/nbdime-notebook-ext | \n",
      "7bb9fae | a184e7e 56490f8 | Vidar Tonaas Fauske | vidartf@gmail.com | 2017-11-04 23:16:23+01:00 | Merge pull request #315 from einon/patch-1 | \n",
      "a184e7e | b0327b0 46f892e | Min RK | benjaminrk@gmail.com | 2017-11-01 13:38:28+01:00 | Merge pull request #311 from vidartf/refactor-server | \n",
      "b0327b0 | e9ba0e4 243c996 | Vidar Tonaas Fauske | vidartf@gmail.com | 2017-11-01 13:37:02+01:00 | Merge pull request #310 from vidartf/update-web | \n",
      "e9ba0e4 | cad565e 19aa64f | Vidar Tonaas Fauske | vidartf@gmail.com | 2017-11-01 11:37:51+01:00 | Merge pull request #308 from vidartf/fix-details-ignore | \n",
      "cad565e | 4da3738 647284d | Vidar Tonaas Fauske | vidartf@gmail.com | 2017-11-01 10:21:02+01:00 | Merge pull request #312 from vidartf/fix-appveyor | \n",
      "4da3738 | a489683 d8ff107 | Vidar Tonaas Fauske | vidartf@gmail.com | 2017-10-31 13:05:55+01:00 | Merge pull request #309 from vidartf/cleanup | \n",
      "a489683 | cfb7408 86abf32 | Min RK | benjaminrk@gmail.com | 2017-10-25 14:59:32+02:00 | Merge pull request #305 from vidartf/fix-filter | \n",
      "cfb7408 | bc93659 51787b0 | Min RK | benjaminrk@gmail.com | 2017-10-25 14:58:51+02:00 | Merge pull request #307 from vidartf/fix-difftool | \n",
      "bc93659 | 40dec01 4cdd49f | Min RK | benjaminrk@gmail.com | 2017-10-25 12:05:15+02:00 | Merge pull request #289 from vidartf/hg | \n",
      "40dec01 | 6c3e8bb d30d54c | Vidar Tonaas Fauske | vidartf@gmail.com | 2017-10-24 18:26:39+02:00 | Merge pull request #306 from vidartf/fixes | \n",
      "6c3e8bb | b384cd4 900e6b6 | Min RK | benjaminrk@gmail.com | 2017-08-18 21:07:25+02:00 | Merge pull request #300 from jbwhit/tweak-image | \n",
      "b384cd4 | edfc38a 36e6b14 | Min RK | benjaminrk@gmail.com | 2017-08-08 10:12:25+02:00 | Merge pull request #295 from vidartf/fixes | \n",
      "36e6b14 | 391f448 edfc38a | Min RK | benjaminrk@gmail.com | 2017-07-12 14:57:39+02:00 | Merge branch 'master' into fixes | \n",
      "edfc38a | 5f6c38f 6ed76ac | Min RK | benjaminrk@gmail.com | 2017-07-12 14:56:38+02:00 | Merge pull request #296 from vidartf/update-jl | \n",
      "852fd94 | 9540d0b f2a9f6e | Vidar Tonaas Fauske | vidartf@gmail.com | 2017-07-10 14:21:55+02:00 | Merge pull request #294 from RTBHOUSE/git-driver-webdiff | \n",
      "9540d0b | a7496a2 574ec67 | Min RK | benjaminrk@gmail.com | 2017-05-26 23:06:32-07:00 | Merge pull request #292 from vidartf/doc-ignores | \n",
      "a7496a2 | 41fd2d3 e03f7bd | Vidar Tonaas Fauske | vidartf@gmail.com | 2017-05-22 13:00:04+02:00 | Merge pull request #290 from baldwint/ignore-flag-pr | \n",
      "b10078b | 76df65e 3200656 | Vidar Tonaas Fauske | vidartf@gmail.com | 2017-05-05 11:52:18+01:00 | Merge pull request #287 from minrk/changelog | \n",
      "76df65e | c2ee8eb 9002d56 | Min RK | benjaminrk@gmail.com | 2017-05-03 14:02:38+02:00 | Merge pull request #284 from vidartf/adjust-ci | \n",
      "393bd56 | 73f5f70 56d9ad2 | Min RK | benjaminrk@gmail.com | 2017-04-21 13:34:19+02:00 | Merge pull request #283 from vidartf/update-setup | \n",
      "73f5f70 | c8f5544 a5f5423 | Min RK | benjaminrk@gmail.com | 2017-04-21 13:33:35+02:00 | Merge pull request #282 from vidartf/optimize | \n",
      "c8f5544 | 1dbc671 99109dd | Min RK | benjaminrk@gmail.com | 2017-04-18 18:04:23+02:00 | Merge pull request #281 from vidartf/add-diff-driver-args | \n",
      "1dbc671 | 2424bc4 10eae14 | Min RK | benjaminrk@gmail.com | 2017-04-11 18:28:36+02:00 | Merge pull request #280 from jupyter/vidartf-patch-1 | \n",
      "2424bc4 | 38b1502 d8894cb | Vidar Tonaas Fauske | vidartf@gmail.com | 2017-04-11 13:16:45+02:00 | Merge pull request #279 from minrk/mathjax-cdn | \n",
      "38b1502 | 5762bc3 f17b9d6 | Min RK | benjaminrk@gmail.com | 2017-03-31 11:04:17+02:00 | Merge pull request #277 from vidartf/hide-unchanged-cells | \n",
      "5762bc3 | 2640b6d f65451c | Min RK | benjaminrk@gmail.com | 2017-03-31 11:03:35+02:00 | Merge pull request #269 from vidartf/doc-adjust | \n",
      "a18f1e8 | eedd971 9f20c20 | Min RK | benjaminrk@gmail.com | 2017-03-18 13:41:07+01:00 | Merge pull request #276 from vidartf/diff-options | \n",
      "eedd971 | a205d4a 2494ab3 | Vidar Tonaas Fauske | vidartf@gmail.com | 2017-03-14 13:08:22+01:00 | Merge pull request #275 from minrk/pip-e | \n",
      "25909c8 | 4530423 b3575ea | Min RK | benjaminrk@gmail.com | 2017-02-23 11:38:35+01:00 | Merge pull request #271 from vidartf/doc-update | \n",
      "4530423 | 8f000c5 f1c8716 | Min RK | benjaminrk@gmail.com | 2017-02-23 10:43:33+01:00 | Merge pull request #270 from vidartf/fix-web-merge-align | \n",
      "8f000c5 | 4bdc258 456ede9 | Vidar Tonaas Fauske | vidartf@gmail.com | 2017-02-21 12:58:16+01:00 | Merge pull request #268 from minrk/unicode | \n",
      "4bdc258 | 83ae911 d01cb4d | Min RK | benjaminrk@gmail.com | 2017-02-20 22:14:53+01:00 | Merge pull request #267 from vidartf/fix-diff | \n",
      "83ae911 | 30a760b 1fe5d66 | Min RK | benjaminrk@gmail.com | 2017-02-20 22:14:39+01:00 | Merge pull request #265 from vidartf/cleanup-fixtures | \n",
      "e64d9f7 | 352e8a5 024a9ec | Min RK | benjaminrk@gmail.com | 2017-02-17 18:16:14+01:00 | Merge pull request #260 from minrk/base_url | \n",
      "352e8a5 | 9e6f400 4880e52 | Vidar Tonaas Fauske | vidartf@gmail.com | 2017-02-16 15:28:47+01:00 | Merge pull request #257 from vidartf/fixes | \n",
      "9e6f400 | 9c4f355 97774cc | Vidar Tonaas Fauske | vidartf@gmail.com | 2017-02-16 15:27:15+01:00 | Merge pull request #262 from vidartf/fix-travis-js-cache | \n",
      "9c4f355 | 804cea7 33f7686 | Min RK | benjaminrk@gmail.com | 2017-02-16 13:48:36+01:00 | Merge pull request #261 from vidartf/dev-null | \n",
      "804cea7 | 9531aa9 f0cf9a7 | Min RK | benjaminrk@gmail.com | 2017-02-16 13:43:47+01:00 | Merge pull request #258 from vidartf/fix-drag-select | \n",
      "9531aa9 | 8e493b1 7593dac | Min RK | benjaminrk@gmail.com | 2017-02-16 13:41:04+01:00 | Merge pull request #256 from vidartf/export-diff | \n",
      "990fded | 77982f9 46df21e | Min RK | benjaminrk@gmail.com | 2017-02-07 12:59:06+01:00 | Merge pull request #254 from vidartf/config-all | \n",
      "46df21e | ba3dbc9 77982f9 | Min RK | benjaminrk@gmail.com | 2017-02-07 12:58:59+01:00 | Merge branch 'master' into config-all | \n",
      "77982f9 | 4ae79a8 b143270 | Min RK | benjaminrk@gmail.com | 2017-02-07 12:57:53+01:00 | Merge pull request #252 from vidartf/doc-system-flag | \n",
      "4ae79a8 | 6d9aaec 3fba95f | Min RK | benjaminrk@gmail.com | 2017-02-07 12:57:36+01:00 | Merge pull request #255 from vidartf/web-ip-arg | \n",
      "6d9aaec | d08ceab 58282a4 | Vidar Tonaas Fauske | vidartf@gmail.com | 2017-02-01 13:27:07+01:00 | Merge pull request #249 from vidartf/appveyor-remove-explicit-git | \n",
      "b9c3184 | 5c92cfb 568064a | Vidar Tonaas Fauske | vidartf@gmail.com | 2017-01-19 19:22:52+00:00 | Merge pull request #248 from timstaley/pip_webapp_staticfiles_fix | \n",
      "5c92cfb | 470eaf8 72561f2 | Martin Sandve Alnæs | martinal@simula.no | 2017-01-17 15:43:45+01:00 | Merge pull request #236 from jupyter/vidartf-docs-typo | \n",
      "65ced79 | 84e6cf3 712cf0d | Min RK | benjaminrk@gmail.com | 2017-01-09 17:16:21+01:00 | Merge pull request #235 from minrk/changelog | \n",
      "84e6cf3 | 823dfd6 0e7e023 | Min RK | benjaminrk@gmail.com | 2017-01-09 17:15:35+01:00 | Merge pull request #232 from vidartf/git-system | \n",
      "823dfd6 | b1454bc 92d2732 | Min RK | benjaminrk@gmail.com | 2017-01-09 14:52:31+01:00 | Merge pull request #234 from vidartf/fix-pp-inline-merge | \n",
      "b1454bc | 6bdacd4 1023e5f | Vidar Tonaas Fauske | vidartf@gmail.com | 2017-01-09 11:30:36+01:00 | Merge pull request #230 from minrk/ensure-dir-exists | \n",
      "6bdacd4 | 900b22e 910c419 | Min RK | benjaminrk@gmail.com | 2017-01-09 10:49:04+01:00 | Merge pull request #228 from vidartf/fix-partially-unsafe-outputs | \n",
      "900b22e | 3df71d0 f967a60 | Min RK | benjaminrk@gmail.com | 2017-01-09 10:48:49+01:00 | Merge pull request #227 from jupyter/vidartf-fix-readme | \n",
      "3df71d0 | 361b2f1 eefebeb | Min RK | benjaminrk@gmail.com | 2017-01-06 12:40:03+01:00 | Merge pull request #226 from vidartf/error-render | \n",
      "361b2f1 | 9bece08 b04db6c | Vidar Tonaas Fauske | vidartf@gmail.com | 2017-01-04 10:21:47+01:00 | Merge pull request #220 from baldwint/master | \n",
      "9bece08 | f311624 f808b7f | Min RK | benjaminrk@gmail.com | 2016-12-21 16:35:51+01:00 | Merge pull request #218 from vidartf/download-merge-button | \n",
      "f311624 | 5560090 00af346 | Min RK | benjaminrk@gmail.com | 2016-12-21 16:35:09+01:00 | Merge pull request #217 from vidartf/fix-nbdime-mergetool | \n",
      "5560090 | 941a4e1 96f6dd9 | Min RK | benjaminrk@gmail.com | 2016-12-21 11:47:51+01:00 | Merge pull request #215 from vidartf/fixes | \n",
      "941a4e1 | ad6ebdc eef6229 | Min RK | benjaminrk@gmail.com | 2016-12-20 18:49:39+01:00 | Merge pull request #216 from vidartf/update-web-deps | \n",
      "ad6ebdc | 031b756 edec016 | Min RK | benjaminrk@gmail.com | 2016-12-20 15:11:05+01:00 | Merge pull request #214 from vidartf/style-unchanged | \n",
      "c032666 | f384cd1 82416fe | Min RK | benjaminrk@gmail.com | 2016-12-16 15:37:25+01:00 | Merge pull request #198 from jupyter/add-merge-tests | \n",
      "f384cd1 | c9bde54 11bb052 | Vidar Tonaas Fauske | vidartf@gmail.com | 2016-12-16 13:57:00+01:00 | Merge pull request #210 from minrk/readme | \n",
      "c9bde54 | c1a0588 3d4fd8d | Min RK | benjaminrk@gmail.com | 2016-12-16 13:32:19+01:00 | Merge pull request #206 from saulshanabrook/patch-1 | \n",
      "c1a0588 | 874e618 cca0999 | Min RK | benjaminrk@gmail.com | 2016-12-16 13:28:53+01:00 | Merge pull request #209 from vidartf/log-url | \n",
      "874e618 | b691ab5 d569ff4 | Martin Sandve Alnæs | martinal@simula.no | 2016-12-15 15:45:07+01:00 | Merge pull request #205 from vidartf/fix-diff-perf | \n",
      "b691ab5 | fafea8a 1aa270c | Min RK | benjaminrk@gmail.com | 2016-12-13 15:57:46+01:00 | Merge pull request #204 from vidartf/ci-appveyor | \n",
      "fafea8a | 7e63061 2a39bc3 | Martin Sandve Alnæs | martinal@simula.no | 2016-12-13 10:08:53+01:00 | Merge pull request #203 from vidartf/fix-ts-lock | \n",
      "7e63061 | e7f1a48 f6c2ac5 | Martin Sandve Alnæs | martinal@simula.no | 2016-12-12 09:46:22+01:00 | Merge pull request #202 from michaelaye/patch-1 | \n",
      "e7f1a48 | 9a4f9f8 f8e29f2 | Min RK | benjaminrk@gmail.com | 2016-12-09 13:41:49+01:00 | Merge pull request #194 from jupyter/output-diff-improvements | \n",
      "9a4f9f8 | cd2f57a 143d710 | Min RK | benjaminrk@gmail.com | 2016-12-09 13:40:03+01:00 | Merge pull request #200 from vidartf/lock-ts-minor-version | \n",
      "cd2f57a | 26704cd 488467e | Martin Sandve Alnæs | martinal@simula.no | 2016-12-06 14:35:44+01:00 | Merge pull request #193 from minrk/changelog | \n",
      "26704cd | e27869d 9d6f54c | Min RK | benjaminrk@gmail.com | 2016-12-06 14:07:42+01:00 | Merge pull request #191 from jupyter/mergetool-arguments | \n",
      "64571fb | 8a3a8e4 169cf2b | Martin Sandve Alnæs | martinal@simula.no | 2016-12-06 09:29:15+01:00 | Merge pull request #190 from vidartf/quickfixes | \n",
      "1ca93bf | 0f9e801 13de864 | Min RK | benjaminrk@gmail.com | 2016-12-05 22:56:05+01:00 | Merge pull request #189 from vidartf/fix-pick-update | \n",
      "0f9e801 | 52e7f16 7bf3900 | Min RK | benjaminrk@gmail.com | 2016-12-05 19:02:14+01:00 | Merge pull request #184 from jupyter/more-inline-merge-work | \n",
      "52e7f16 | b796d33 ede5771 | Martin Sandve Alnæs | martinal@simula.no | 2016-12-05 15:15:55+01:00 | Merge pull request #187 from vidartf/remove-debug-print | \n",
      "b796d33 | 0aa75f8 f9211ef | Vidar Tonaas Fauske | vidartf@gmail.com | 2016-12-05 14:16:05+01:00 | Merge pull request #188 from minrk/merge-decision-docs | \n",
      "bc69972 | f3843ea 0aa75f8 | Martin Sandve Alnæs | martinal@simula.no | 2016-12-05 11:47:31+01:00 | Merge branch 'master' into more-inline-merge-work | \n",
      "0aa75f8 | da9b138 b7164ea | Martin Sandve Alnæs | martinal@simula.no | 2016-12-05 11:46:43+01:00 | Merge pull request #185 from vidartf/fix-js-test | \n",
      "da9b138 | c8ff67e 5e70941 | Min RK | benjaminrk@gmail.com | 2016-12-05 11:15:23+01:00 | Merge pull request #183 from willingc/cli-help | \n",
      "c8ff67e | a8dc069 2118d96 | Martin Sandve Alnæs | martinal@simula.no | 2016-12-05 11:12:36+01:00 | Merge pull request #175 from jupyter/fix-inline-merge-strategies | \n",
      "8247775 | 20bcc2b a8dc069 | Vidar Tonaas Fauske | vidartf@gmail.com | 2016-12-03 17:41:36+01:00 | Merge branch 'master' into fix-inline-merge-strategies | \n",
      "a8dc069 | 938d0d6 14b59aa | Carol Willing | carolcode@willingconsulting.com | 2016-12-02 14:52:22-06:00 | Merge pull request #181 from minrk/rm-previous-disable | \n",
      "938d0d6 | cb2e3e7 cc02862 | Carol Willing | carolcode@willingconsulting.com | 2016-12-02 14:51:32-06:00 | Merge pull request #179 from minrk/rn | \n",
      "cb2e3e7 | a780dfa 4420cbd | Min RK | benjaminrk@gmail.com | 2016-12-02 19:49:37+01:00 | Merge pull request #178 from vidartf/outputs-conflicts | \n",
      "a780dfa | 1d49827 a616bd3 | Carol Willing | carolcode@willingconsulting.com | 2016-12-02 12:06:49-06:00 | Merge pull request #180 from minrk/rm-pytest-l | \n",
      "1d49827 | 5078eee 3c7553e | Vidar Tonaas Fauske | vidartf@gmail.com | 2016-12-02 18:37:50+01:00 | Merge pull request #176 from minrk/cli-coverage | \n",
      "5078eee | c375fe4 441a8be | Martin Sandve Alnæs | martinal@simula.no | 2016-12-02 12:17:18+01:00 | Merge pull request #174 from minrk/mergeargs | \n",
      "c375fe4 | 60bc309 4d88e5b | Min RK | benjaminrk@gmail.com | 2016-12-01 18:36:47+01:00 | Merge pull request #172 from vidartf/clear-outputs | \n",
      "60bc309 | 6ae471f 8e260e2 | Martin Sandve Alnæs | martinal@simula.no | 2016-12-01 14:00:13+01:00 | Merge pull request #169 from vidartf/fix-apap | \n",
      "6ae471f | fe4b29a 124246f | Martin Sandve Alnæs | martinal@simula.no | 2016-12-01 09:29:29+01:00 | Merge pull request #167 from vidartf/Cleanup | \n",
      "fe4b29a | 44ff95e 1e14732 | Martin Sandve Alnæs | martinal@simula.no | 2016-12-01 09:23:33+01:00 | Merge pull request #171 from willingc/doc-alttxt | \n",
      "44ff95e | 43f8bcc 9fb94d5 | Min RK | benjaminrk@gmail.com | 2016-11-30 20:51:48+01:00 | Merge pull request #170 from willingc/docs-part2 | \n",
      "43f8bcc | ff7b295 1750a94 | Vidar Tonaas Fauske | vidartf@gmail.com | 2016-11-30 19:10:46+01:00 | Merge pull request #161 from minrk/global-nbdimeserver-state | \n",
      "ff7b295 | b0d57d5 34c6528 | Vidar Tonaas Fauske | vidartf@gmail.com | 2016-11-30 17:56:58+01:00 | Merge pull request #166 from minrk/known-keys | \n",
      "b0d57d5 | 5982dcd 5b0a3ad | Vidar Tonaas Fauske | vidartf@gmail.com | 2016-11-30 17:51:39+01:00 | Merge pull request #165 from minrk/screenshots | \n",
      "5982dcd | 2e520e7 dd3ff8b | Vidar Tonaas Fauske | vidartf@gmail.com | 2016-11-30 17:27:36+01:00 | Merge pull request #155 from jupyter/conflict-inlining | \n",
      "2e520e7 | d188aa0 e07b480 | Min RK | benjaminrk@gmail.com | 2016-11-30 15:30:18+01:00 | Merge pull request #160 from willingc/update-readme | \n",
      "d188aa0 | 0d5a79c 5c074e9 | Min RK | benjaminrk@gmail.com | 2016-11-30 14:02:13+01:00 | Merge pull request #159 from willingc/doc-edits | \n",
      "0d5a79c | 19d7375 8d16d54 | Martin Sandve Alnæs | martinal@simula.no | 2016-11-30 09:28:04+01:00 | Merge pull request #153 from vidartf/merge-strategries-cli | \n",
      "19d7375 | 40979fa f7aed91 | Martin Sandve Alnæs | martinal@simula.no | 2016-11-30 08:42:04+01:00 | Merge pull request #157 from jupyter/willingc-readme | \n",
      "40979fa | 854f22d b9575c2 | Carol Willing | carolcode@willingconsulting.com | 2016-11-29 14:05:31-06:00 | Merge pull request #156 from jupyter/willingc-patch-1 | \n",
      "aeeb049 | ad60f74 854f22d | Vidar Tonaas Fauske | vidartf@gmail.com | 2016-11-29 15:41:16+01:00 | Merge branch 'master' into merge-strategries-cli | \n",
      "854f22d | 5ea5cc1 5710527 | Min RK | benjaminrk@gmail.com | 2016-11-29 14:01:30+01:00 | Merge pull request #154 from willingc/doc-edit | \n",
      "5ea5cc1 | dee5c9a 07ed1e8 | Martin Sandve Alnæs | martinal@simula.no | 2016-11-29 10:45:52+01:00 | Merge pull request #150 from vidartf/mergetool-cmd | \n",
      "dee5c9a | ac153fc 624ad9f | Carol Willing | carolcode@willingconsulting.com | 2016-11-28 10:06:52-06:00 | Merge pull request #152 from minrk/docs-pre-release | \n",
      "ac153fc | 8992557 3820591 | Vidar Tonaas Fauske | vidartf@gmail.com | 2016-11-28 16:53:22+01:00 | Merge pull request #151 from minrk/entrypoints | \n",
      "7b81637 | 6455178 22a2d90 | Vidar Tonaas Fauske | vidartf@gmail.com | 2016-11-28 13:58:54+01:00 | Merge pull request #144 from jupyter/prettyprint-notebooks-and-decisions | \n",
      "6455178 | 806239e f574f0f | Vidar Tonaas Fauske | vidartf@gmail.com | 2016-11-28 13:52:08+01:00 | Merge pull request #148 from jupyter/fix-inline-merge-conflict | \n",
      "806239e | b20f4a1 95f3418 | Martin Sandve Alnæs | martinal@simula.no | 2016-11-28 09:16:13+01:00 | Merge pull request #145 from minrk/setup-py-pass | \n",
      "b20f4a1 | 9e4688d 794db98 | Martin Sandve Alnæs | martinal@simula.no | 2016-11-24 13:49:37+01:00 | Merge pull request #143 from vidartf/support-execution_count | \n",
      "9e4688d | 773a7ba 8fee12e | Martin Sandve Alnæs | martinal@simula.no | 2016-11-22 15:54:15+01:00 | Merge pull request #139 from vidartf/support-attachments | \n",
      "773a7ba | 8bcf827 d62f826 | Min RK | benjaminrk@gmail.com | 2016-11-22 11:22:08+01:00 | Merge pull request #137 from jupyter/add-skip-npm-option | \n",
      "8bcf827 | ab3cc94 8e149e1 | Vidar Tonaas Fauske | vidartf@gmail.com | 2016-11-22 10:32:52+01:00 | Merge pull request #140 from jupyter/fix-merge-bug | \n",
      "ab3cc94 | cb3f3a9 461e850 | Martin Sandve Alnæs | martinal@simula.no | 2016-11-21 09:37:14+01:00 | Merge pull request #134 from vidartf/fix-dist | \n",
      "cb3f3a9 | 2b56e31 0fe5f56 | Martin Sandve Alnæs | martinal@simula.no | 2016-11-21 09:36:54+01:00 | Merge pull request #135 from vidartf/adjust-diff-output-styles | \n",
      "2b56e31 | 213d30e 6c89d8a | Martin Sandve Alnæs | martinal@simula.no | 2016-11-21 09:36:41+01:00 | Merge pull request #136 from vidartf/test-json-output | \n",
      "213d30e | 6140d23 cea73a8 | Martin Sandve Alnæs | martinal@simula.no | 2016-11-18 13:53:58+01:00 | Merge pull request #132 from vidartf/cleanup-templates | \n",
      "6140d23 | 3723b53 22b4a75 | Min RK | benjaminrk@gmail.com | 2016-11-18 13:32:53+01:00 | Merge pull request #130 from vidartf/adjust-output-diff-view | \n",
      "3723b53 | 0aa5782 9f09c30 | Min RK | benjaminrk@gmail.com | 2016-11-18 13:32:16+01:00 | Merge pull request #131 from vidartf/fix-fallback-colors | \n",
      "0aa5782 | 753135a 2dabe94 | Martin Sandve Alnæs | martinal@simula.no | 2016-11-17 08:19:44+01:00 | Merge pull request #128 from vidartf/refactor-widgets | \n",
      "753135a | f8767b7 da94885 | Martin Sandve Alnæs | martinal@simula.no | 2016-11-16 12:56:04+01:00 | Merge pull request #125 from vidartf/improve-chunking | \n",
      "f8767b7 | 2fd4a9e 5908bc7 | Vidar Tonaas Fauske | vidartf@gmail.com | 2016-11-16 10:00:20+01:00 | Merge pull request #126 from jupyter/add-browser-argument | \n",
      "2fd4a9e | 48e2c13 f05d07a | Martin Sandve Alnæs | martinal@simula.no | 2016-11-14 16:15:23+01:00 | Merge pull request #127 from vidartf/logging | \n",
      "48e2c13 | c4df69b 39658f8 | Martin Sandve Alnæs | martinal@simula.no | 2016-11-14 11:55:03+01:00 | Merge pull request #123 from vidartf/fix_pickers | \n",
      "c4df69b | 6a04033 114fed8 | Martin Sandve Alnæs | martinal@simula.no | 2016-11-14 11:51:14+01:00 | Merge pull request #124 from vidartf/fixes-etc | \n",
      "6a04033 | 9f43c3d 8be67b9 | Martin Sandve Alnæs | martinal@simula.no | 2016-11-11 11:41:31+01:00 | Merge pull request #119 from vidartf/fix-web-decision-splitting | \n",
      "9f43c3d | a5e1f72 e2fc76b | Martin Sandve Alnæs | martinal@simula.no | 2016-11-09 13:10:36+01:00 | Merge pull request #117 from vidartf/flexible-index | \n",
      "e2fc76b | ce1f7a5 a5e1f72 | Vidar Tonaas Fauske | vidartf@gmail.com | 2016-11-09 10:49:59+01:00 | Merge branch 'master' into flexible-index | \n",
      "a5e1f72 | 43eca25 176c52d | Martin Sandve Alnæs | martinal@simula.no | 2016-11-09 10:41:52+01:00 | Merge pull request #118 from vidartf/error-handling | \n",
      "43eca25 | c21cab3 32e44e8 | Martin Sandve Alnæs | martinal@simula.no | 2016-11-08 10:13:00+01:00 | Merge pull request #114 from vidartf/enh-webapp | \n",
      "c21cab3 | 35b7608 f764cc3 | Martin Sandve Alnæs | martinal@simula.no | 2016-11-08 10:12:54+01:00 | Merge pull request #115 from vidartf/fix-close-button | \n",
      "35b7608 | db46402 22e6245 | Vidar Tonaas Fauske | vidartf@gmail.com | 2016-11-07 13:32:22+01:00 | Merge pull request #106 from jupyter/update-docs | \n",
      "db46402 | 8792ab4 0494548 | Martin Sandve Alnæs | martinal@simula.no | 2016-10-31 14:28:25+01:00 | Merge pull request #112 from vidartf/fixes-web | \n",
      "8792ab4 | e93a97f 1f47ad4 | Martin Sandve Alnæs | martinal@simula.no | 2016-10-31 13:16:08+01:00 | Merge pull request #110 from vidartf/refactor-models | \n",
      "e93a97f | e3e5f44 1cf12b9 | Martin Sandve Alnæs | martinal@simula.no | 2016-10-31 13:13:35+01:00 | Merge pull request #109 from vidartf/fix-outputmodel-web | \n",
      "e3e5f44 | 39f146f 7acc1ed | Vidar Tonaas Fauske | vidartf@gmail.com | 2016-10-31 12:09:50+01:00 | Merge pull request #107 from jupyter/fix-nbmergeweb | \n",
      "39f146f | f6884b0 973abd4 | Martin Sandve Alnæs | martinal@simula.no | 2016-10-31 10:45:06+01:00 | Merge pull request #105 from vidartf/fix-mergetooldefault | \n",
      "f6884b0 | a57e4e3 e5a7e99 | Vidar Tonaas Fauske | vidartf@gmail.com | 2016-10-31 10:34:02+01:00 | Merge pull request #104 from minrk/base-local-remote | \n",
      "f1a348e | 31e286d f173c75 | Vidar Tonaas Fauske | vidartf@gmail.com | 2016-10-27 09:48:50+02:00 | Merge pull request #102 from jupyter/martinal/use-io-open | \n",
      "31e286d | acc356a 47d47c5 | Martin Sandve Alnæs | martinal@simula.no | 2016-10-26 10:13:46+02:00 | Merge pull request #100 from vidartf/fix-pp | \n",
      "acc356a | 481b2cd 4a82e4b | Martin Sandve Alnæs | martinal@simula.no | 2016-10-24 13:57:42+02:00 | Merge pull request #97 from vidartf/fix-setup | \n",
      "481b2cd | 14ed831 cd5bb48 | Min RK | benjaminrk@gmail.com | 2016-10-18 13:40:56+02:00 | Merge pull request #98 from vidartf/fix-output-dnd | \n",
      "14ed831 | 5a6ba9b bdb52f9 | Martin Sandve Alnæs | martinal@simula.no | 2016-10-17 16:12:00+02:00 | Merge pull request #96 from vidartf/fix-flatten-string-diff | \n",
      "5a6ba9b | e4af609 4df994c | Vidar Tonaas Fauske | vidartf@gmail.com | 2016-10-17 15:59:15+02:00 | Merge pull request #95 from jupyter/fix-merge-cell-delete-and-patch | \n",
      "e4af609 | 4e03e16 ca9b913 | Martin Sandve Alnæs | martinal@simula.no | 2016-10-14 17:36:01+02:00 | Merge pull request #92 from vidartf/minor-fixes | \n",
      "4e03e16 | c9ffa9c 8f22f4f | Martin Sandve Alnæs | martinal@simula.no | 2016-10-14 13:26:17+02:00 | Merge pull request #84 from vidartf/fix-coverage | \n",
      "c9ffa9c | 4136c51 4f0d1db | Martin Sandve Alnæs | martinal@simula.no | 2016-10-14 13:16:22+02:00 | Merge pull request #91 from vidartf/readme-require-npm | \n",
      "4136c51 | da17b37 6806b3c | Martin Sandve Alnæs | martinal@simula.no | 2016-10-14 13:13:20+02:00 | Merge pull request #90 from vidartf/ts2 | \n",
      "da17b37 | 8501759 c211091 | Martin Sandve Alnæs | martinal@simula.no | 2016-10-10 09:38:03+02:00 | Merge pull request #86 from vidartf/fix-tools | \n",
      "8501759 | 48e865b e71bfee | Martin Sandve Alnæs | martinal@simula.no | 2016-10-10 09:36:26+02:00 | Merge pull request #87 from vidartf/docs2 | \n",
      "48e865b | b9eca71 6586f20 | Martin Sandve Alnæs | martinal@simula.no | 2016-10-10 09:33:43+02:00 | Merge pull request #89 from adamchainz/readthedocs.io | \n",
      "b9eca71 | 89974ba d0954fa | Min RK | benjaminrk@gmail.com | 2016-10-07 13:15:10+02:00 | Merge pull request #85 from vidartf/change-reg | \n",
      "89974ba | 618b233 d956efd | Vidar Tonaas Fauske | vidartf@gmail.com | 2016-10-05 10:33:59+02:00 | Merge pull request #83 from jupyter/martinal/topic-cli-fixes | \n",
      "2bed9bb | 9824304 e40a88b | Martin Sandve Alnæs | martinal@simula.no | 2016-10-04 08:59:29+02:00 | Merge pull request #82 from vidartf/docs | \n",
      "9824304 | 88acecf dc14211 | Martin Sandve Alnæs | martinal@simula.no | 2016-09-27 09:59:58+02:00 | Merge pull request #81 from vidartf/refactorprojects | \n",
      "88acecf | fe87b7a 4fe2a23 | Martin Sandve Alnæs | martinal@simula.no | 2016-09-23 10:42:17+02:00 | Merge pull request #77 from vidartf/webapp_mergetool | \n",
      "fe87b7a | ce4583a cb5275c | Martin Sandve Alnæs | martinal@simula.no | 2016-09-23 09:54:06+02:00 | Merge pull request #79 from vidartf/mergetool_driver_server | \n",
      "ce4583a | b94db84 fe72eb4 | Martin Sandve Alnæs | martinal@simula.no | 2016-09-23 09:53:56+02:00 | Merge pull request #78 from vidartf/server_fixes | \n",
      "b94db84 | d24fe80 4b4c358 | Martin Sandve Alnæs | martinal@simula.no | 2016-09-12 15:05:03+02:00 | Merge pull request #76 from vidartf/merge-decisions | \n",
      "d24fe80 | 4e75c5a bd14f06 | Martin Sandve Alnæs | martinal@simula.no | 2016-08-29 13:10:51+02:00 | Merge pull request #75 from vidartf/merge_decision_schema | \n",
      "4e75c5a | 90ede10 41a95d2 | Min RK | benjaminrk@gmail.com | 2016-07-27 16:07:05+02:00 | Merge pull request #68 from vidartf/fix_metadata | \n",
      "90ede10 | b6b9876 bcd6141 | Min RK | benjaminrk@gmail.com | 2016-07-27 16:06:58+02:00 | Merge pull request #73 from jupyter/martinal/fix-autoresolve-bug | \n",
      "b6b9876 | 767c7c2 32bafb5 | Martin Sandve Alnæs | martinal@simula.no | 2016-07-27 08:37:35+02:00 | Merge pull request #71 from vidartf/refactor_chunking | \n",
      "767c7c2 | 84bb398 c4a5cc0 | Martin Sandve Alnæs | martinal@simula.no | 2016-07-26 15:47:04+02:00 | Merge pull request #72 from vidartf/patch-1 | \n",
      "84bb398 | 37a15fe 9033e8a | Min RK | benjaminrk@gmail.com | 2016-07-26 10:03:47+02:00 | Merge pull request #67 from vidartf/render_md | \n",
      "37a15fe | ed9023a 2935e8b | Min RK | benjaminrk@gmail.com | 2016-07-25 14:40:11+02:00 | Merge pull request #65 from gahjelle/setup_with_webapp | \n",
      "b3343f9 | 8ff220d 845c477 | Min RK | benjaminrk@gmail.com | 2016-07-15 04:00:12-05:00 | Merge pull request #63 from minrk/diff-driver-attributes | \n",
      "e387105 | 55adbce a8650be | Min RK | benjaminrk@gmail.com | 2016-07-15 00:41:17-05:00 | Merge pull request #62 from minrk/merge-test | \n",
      "55adbce | 633fe82 15c6740 | Min RK | benjaminrk@gmail.com | 2016-07-14 23:12:19-05:00 | Merge pull request #61 from minrk/install-web | \n",
      "633fe82 | d1952dc 754f57b | Min RK | benjaminrk@gmail.com | 2016-07-14 18:46:09-05:00 | Merge pull request #58 from minrk/turn-on-indent | \n",
      "d1952dc | 6691bfc 7e4d860 | Min RK | benjaminrk@gmail.com | 2016-07-14 14:42:34-05:00 | Merge pull request #54 from minrk/colors | \n",
      "6691bfc | 0d57ff7 9c6830a | Min RK | benjaminrk@gmail.com | 2016-07-14 14:14:10-05:00 | Merge pull request #57 from minrk/skip-non-notebooks | \n",
      "a8fce37 | 3fd06d8 d390fef | Min RK | benjaminrk@gmail.com | 2016-07-14 10:44:20-05:00 | Merge pull request #56 from minrk/missing-languages | \n",
      "0d9469d | 312418e 8662fe3 | Min RK | benjaminrk@gmail.com | 2016-07-14 10:37:52-05:00 | Merge pull request #55 from minrk/integer-ports | \n",
      "312418e | 5044f27 18814a6 | Min RK | benjaminrk@gmail.com | 2016-07-14 01:05:21-05:00 | Merge pull request #50 from vidartf/mimetype_diff | \n",
      "5044f27 | 7fcd5b2 fecb37f | Min RK | benjaminrk@gmail.com | 2016-07-13 16:32:49-05:00 | Merge pull request #49 from vidartf/webapp_difftool | \n",
      "015483b | dcd6c22 038689b | Vidar Tonaas Fauske | vidartf@gmail.com | 2016-07-07 22:48:25+02:00 | Merge remote-tracking branch 'origin/linewise_diffs' into mimetype_diff | \n",
      "b91fc89 | 9473ab1 7fcd5b2 | Vidar Tonaas Fauske | vidartf@gmail.com | 2016-07-07 14:52:00+02:00 | Merge remote-tracking branch 'jupyter/master' into webapp_difftool | \n",
      "7fcd5b2 | a3504cb d3694eb | Min RK | benjaminrk@gmail.com | 2016-05-11 14:24:58+02:00 | Merge pull request #48 from bollwyvl/handle-error-output-type | \n",
      "a3504cb | b363220 fde642d | Min RK | benjaminrk@gmail.com | 2016-05-04 17:04:58+02:00 | Merge pull request #45 from vidartf/FIX_diff_driver_test | \n",
      "b363220 | 614882b f6f80ac | Min RK | benjaminrk@gmail.com | 2016-05-04 11:51:19+02:00 | Merge pull request #44 from vidartf/diff_driver | \n",
      "614882b | 2e6aba7 1b0320c | Min RK | benjaminrk@gmail.com | 2016-05-04 11:47:46+02:00 | Merge pull request #43 from vidartf/ignores | \n",
      "2e6aba7 | 9a2d724 d54c67f | Min RK | benjaminrk@gmail.com | 2016-05-04 11:47:33+02:00 | Merge pull request #42 from vidartf/misname | \n",
      "cc31347 | a0303a4 ebd3f33 | Min RK | benjaminrk@gmail.com | 2016-04-21 14:34:52+02:00 | Merge pull request #41 from bollwyvl/topic-prettydiff-fallback | \n",
      "a0303a4 | 912ee20 3fefdc8 | Min RK | benjaminrk@gmail.com | 2016-04-18 10:25:41+02:00 | Merge pull request #40 from willingc/doc-move | \n",
      "912ee20 | f173d83 d5312de | Carol Willing | carolcode@willingconsulting.com | 2016-04-17 03:38:36-07:00 | Merge pull request #39 from jupyter/willingc-patch-1 | \n",
      "f173d83 | d15e6fd 8e67844 | Martin Sandve Alnæs | martinal@simula.no | 2016-04-15 16:03:44+02:00 | Merge pull request #38 from jupyter/new-list-merge-algorithm | \n",
      "d15e6fd | cc37433 149ddce | Min RK | benjaminrk@gmail.com | 2016-03-22 12:00:03+01:00 | Merge pull request #31 from minrk/terminal-diff | \n",
      "bc2bbfc | 715eb15 f14e094 | Min RK | benjaminrk@gmail.com | 2016-03-21 10:11:39+01:00 | Merge pull request #30 from willingc/doc-update | \n",
      "6660a4a | 72fc51f d60af42 | Martin Sandve Alnæs | martinal@simula.no | 2016-03-15 14:23:14+01:00 | Merge pull request #29 from martinal/martinal/topic-merge-conflict-resolution | \n",
      "72fc51f | fbcb81f dc2407b | Min RK | benjaminrk@gmail.com | 2016-03-12 21:53:32+01:00 | Merge pull request #28 from minrk/fix-difftool-args | \n",
      "fbcb81f | 5af7f14 0a8e244 | Martin Sandve Alnæs | martinal@simula.no | 2016-03-08 14:30:32+01:00 | Merge pull request #27 from martinal/martinal/topic-refactor-diffing | \n",
      "5af7f14 | 24a29c2 f95b939 | Martin Sandve Alnæs | martinal@simula.no | 2016-03-08 13:56:43+01:00 | Merge pull request #26 from minrk/difftool | \n",
      "24a29c2 | c261edd 88f0961 | Martin Sandve Alnæs | martinal@simula.no | 2016-03-08 10:46:32+01:00 | Merge pull request #25 from martinal/martinal/topic-add-merge-strategies | \n",
      "c261edd | d20e604 7164a48 | Martin Sandve Alnæs | martinal@simula.no | 2016-03-08 10:42:18+01:00 | Merge pull request #24 from martinal/martinal/topic-refactor-diff-algorithms | \n",
      "d20e604 | 91318f6 1333a20 | Martin Sandve Alnæs | martinal@simula.no | 2016-03-07 14:38:01+01:00 | Merge pull request #22 from martinal/martinal/topic-use-argparse | \n",
      "91318f6 | dc6604c 32ec755 | Martin Sandve Alnæs | martinal@simula.no | 2016-02-23 15:05:27+01:00 | Merge pull request #21 from martinal/api-draft | \n",
      "dc6604c | 7ae62b8 0d9e8ce | Min RK | benjaminrk@gmail.com | 2016-02-22 11:37:08+01:00 | Merge pull request #20 from WillEngler/web-cli | \n",
      "f87fb2e |  | Martin Sandve Alnæs | martinal@simula.no | 2015-11-09 13:13:28+01:00 | Initial commit, framework files following nbformat setup. | CONTRIBUTING.md,COPYING.md,MANIFEST.in,README.md,docs/README.md,nbmerge/__init__.py,nbmerge/_version.py,scripts/nbdiff,scripts/nbmerge,setup.cfg,setup.py\n"
     ]
    }
   ],
   "source": [
    "# YOUR CODE HERE\n",
    "\n",
    "print('\\t| '.join(headers))\n",
    "for i in range(num_rows):\n",
    "    has_empty_value = False\n",
    "    values = []\n",
    "    for header in headers:\n",
    "        values.append(cols[header][i])\n",
    "        if cols[header][i] == '':\n",
    "            has_empty_value = True\n",
    "    if has_empty_value:\n",
    "        print(' | '.join([str(v) for v in values]))"
   ]
  },
  {
   "cell_type": "markdown",
   "id": "2826f4c7",
   "metadata": {
    "deletable": false,
    "nbgrader": {
     "cell_type": "markdown",
     "checksum": "0f5fa9e719dcc6a28b1a0ad666d3c0a9",
     "grade": true,
     "grade_id": "cell-0ce04cd6c1dd7a31",
     "locked": false,
     "points": 0.25,
     "schema_version": 3,
     "solution": true,
     "task": false
    }
   },
   "source": [
    "<!-- YOUR ANSWER HERE -->\n",
    "Chỉ trừ initial commit (commit này không có ParentIds), các dòng có giá trị thiếu đều chỉ thiếu ở cột ChangedFiles (cũng dễ hiểu vì commit nào cũng phải có ID, parent, tác giả, email, ngày commit và subject).\n",
    "\n",
    "Có một số điều em nhận ra như sau:\n",
    "* Các commit này đều có subject là \"Merge pull request...\".\n",
    "* Các số pull request không liên tục mà nhảy cóc.\n",
    "* Nhìn vào tên branch, chủ yếu nói về việc thêm, xóa hay sửa chữa những gì liên quan đến documentation, test hay dọn dẹp repo.\n",
    "* Em chạy `git log` với tham số `--name-only`, tham số này chỉ in ra các file bị thay đổi chứ không in các file được thêm vào hay bị xóa.\n",
    "\n",
    "Do đó em kết luận nguyên nhân dẫn đến các dòng chứa giá trị thiếu: _Các commit merge PR liên quan đến documentation, test hay dọn dẹp repo chỉ thêm hoặc xóa file chứ không làm thay đổi file._"
   ]
  },
  {
   "cell_type": "markdown",
   "id": "7fb6df75",
   "metadata": {},
   "source": [
    "---"
   ]
  },
  {
   "cell_type": "markdown",
   "id": "af20a067",
   "metadata": {},
   "source": [
    "## Đưa ra câu hỏi có ý nghĩa cần trả lời"
   ]
  },
  {
   "cell_type": "markdown",
   "id": "6d1383e9",
   "metadata": {},
   "source": [
    "Sau khi khám phá dữ liệu, ta đã hiểu hơn về dữ liệu. Bây giờ, ta hãy xem thử có câu hỏi nào có ý nghĩa mà có thể được trả lời bằng dữ liệu này không.\n",
    "\n",
    "Các câu hỏi có thể có là: \n",
    "- *Câu hỏi 1: trong năm 2021, ai là người có nhiều commit nhất, ai là người có nhiều commit nhì, ...?* \\\n",
    "Tìm câu trả lời cho câu hỏi này để làm gì? \\\n",
    "Hmm ... Chẳng hạn để khen thưởng\n",
    "- *Câu hỏi 2: commit nào là commit cuối cùng đã thay đổi file \"nbdime/webapp/templates/difftool.html\"?* \\\n",
    "Tìm câu trả lời cho câu hỏi này để làm gì? \\\n",
    "Hmm ... Chẳng hạn để đổ tội cho tác giả của commit đó ;-)"
   ]
  },
  {
   "cell_type": "markdown",
   "id": "2b8d3d6a",
   "metadata": {},
   "source": [
    "---"
   ]
  },
  {
   "cell_type": "markdown",
   "id": "0071c835",
   "metadata": {},
   "source": [
    "## Tiền xử lý (nếu cần) + phân tích dữ liệu để trả lời cho câu hỏi 1 (1đ)"
   ]
  },
  {
   "cell_type": "markdown",
   "id": "408c3c24",
   "metadata": {},
   "source": [
    "Nhắc lại câu hỏi 1: *trong năm 2021, ai là người có nhiều commit nhất, ai là người có nhiều commit nhì, ...?*\n",
    "\n",
    "Bạn sẽ lưu kết quả vào biến `wanted_people`. Biến này là một dictionary, mỗi phần tử ứng với một người mà có commit trong năm 2021, key là tên của người đó, value là số lượng commit của người đó. Dictionary này được sort theo value giảm dần."
   ]
  },
  {
   "cell_type": "code",
   "execution_count": 18,
   "id": "937386a9",
   "metadata": {
    "deletable": false,
    "nbgrader": {
     "cell_type": "code",
     "checksum": "164597dfc4cff18b22014680c9345b6e",
     "grade": false,
     "grade_id": "cell-a40eed2ac02f6c2b",
     "locked": false,
     "schema_version": 3,
     "solution": true,
     "task": false
    }
   },
   "outputs": [],
   "source": [
    "# YOUR CODE HERE\n",
    "# raise NotImplementedError()\n",
    "wanted_people = {}\n",
    "for i in range(num_rows):\n",
    "    if cols['AuthorDate'][i].year == 2021:\n",
    "        author = cols['AuthorName'][i]\n",
    "        if author not in wanted_people.keys():\n",
    "            wanted_people[author] = 0\n",
    "        wanted_people[author] += 1"
   ]
  },
  {
   "cell_type": "code",
   "execution_count": 19,
   "id": "93459f36",
   "metadata": {
    "deletable": false,
    "editable": false,
    "nbgrader": {
     "cell_type": "code",
     "checksum": "a7294256d2ff774d1305360568b58d73",
     "grade": true,
     "grade_id": "cell-9e312d16b92a0e40",
     "locked": true,
     "points": 1,
     "schema_version": 3,
     "solution": false,
     "task": false
    }
   },
   "outputs": [],
   "source": [
    "# TEST\n",
    "correct_wanted_people = {'Vidar Tonaas Fauske': 26, \n",
    "                         'Alex Bozarth': 9, \n",
    "                         'Frederic COLLONVAL': 7, \n",
    "                         'Frédéric Collonval': 6, \n",
    "                         'krassowski': 2, \n",
    "                         'Michał Krassowski': 2}\n",
    "assert wanted_people == correct_wanted_people"
   ]
  },
  {
   "cell_type": "markdown",
   "id": "331e0d37",
   "metadata": {},
   "source": [
    "---"
   ]
  },
  {
   "cell_type": "markdown",
   "id": "e34f11a1",
   "metadata": {},
   "source": [
    "## Tiền xử lý (nếu cần) + phân tích dữ liệu để trả lời cho câu hỏi 2 (2đ)"
   ]
  },
  {
   "cell_type": "markdown",
   "id": "da4781dc",
   "metadata": {},
   "source": [
    "Nhắc lại câu hỏi 2: *commit nào là commit cuối cùng đã thay đổi file \"nbdime/webapp/templates/difftool.html\"?*\n",
    "\n",
    "Ta thống nhất: không xét các commit \"merge pull request\" vì các commit này không có thông tin về \"ChangedFiles\".\n",
    "\n",
    "Bạn lưu kết quả vào biến `wanted_commit`. Biến này là một dictionary, trong đó mỗi phần tử ứng với một thông tin của commit, key là tên cột, value là giá trị tương ứng."
   ]
  },
  {
   "cell_type": "code",
   "execution_count": 20,
   "id": "c329cf22",
   "metadata": {
    "deletable": false,
    "nbgrader": {
     "cell_type": "code",
     "checksum": "e6cbf3fcba915f428f1ac9b6f208e6ef",
     "grade": false,
     "grade_id": "cell-37a6a90f597ad4a1",
     "locked": false,
     "schema_version": 3,
     "solution": true,
     "task": false
    }
   },
   "outputs": [
    {
     "data": {
      "text/plain": [
       "{'Id': 'be0b5ee',\n",
       " 'ParentIds': '4226179',\n",
       " 'AuthorName': 'Vidar Tonaas Fauske',\n",
       " 'AuthorEmail': 'vidartf@gmail.com',\n",
       " 'AuthorDate': datetime.datetime(2017, 7, 4, 22, 53, 9, tzinfo=datetime.timezone(datetime.timedelta(seconds=7200))),\n",
       " 'Subject': 'jinja2 templates + avoid name collisions with nb',\n",
       " 'ChangedFiles': 'nbdime/webapp/nbdimeserver.py,nbdime/webapp/templates/compare.html,nbdime/webapp/templates/diff.html,nbdime/webapp/templates/difftool.html,nbdime/webapp/templates/merge.html,nbdime/webapp/templates/mergetool.html,nbdime/webapp/templates/nbdimepage.html,setup.py'}"
      ]
     },
     "execution_count": 20,
     "metadata": {},
     "output_type": "execute_result"
    }
   ],
   "source": [
    "# YOUR CODE HERE\n",
    "# raise NotImplementedError()\n",
    "\n",
    "idx = None\n",
    "last_date = author_date_min\n",
    "for i in range(num_rows):\n",
    "    if 'nbdime/webapp/templates/difftool.html' in cols['ChangedFiles'][i] and \\\n",
    "       cols['AuthorDate'][i] > last_date:\n",
    "        idx = i\n",
    "        last_date = cols['AuthorDate'][i]\n",
    "\n",
    "wanted_commit = {}\n",
    "if idx != None:\n",
    "    for header in headers:\n",
    "        wanted_commit[header] = cols[header][idx]\n",
    "wanted_commit"
   ]
  },
  {
   "cell_type": "code",
   "execution_count": 21,
   "id": "777ead1c",
   "metadata": {
    "deletable": false,
    "editable": false,
    "nbgrader": {
     "cell_type": "code",
     "checksum": "916a7ddb9a0120cadf1501a14a675d3e",
     "grade": true,
     "grade_id": "cell-41c49732faf571f7",
     "locked": true,
     "points": 2,
     "schema_version": 3,
     "solution": false,
     "task": false
    }
   },
   "outputs": [],
   "source": [
    "# TEST\n",
    "correct_wanted_commit = {\\\n",
    "    'Id': 'be0b5ee',\n",
    "    'ParentIds': '4226179',\n",
    "    'AuthorName': 'Vidar Tonaas Fauske',\n",
    "    'AuthorEmail': 'vidartf@gmail.com',\n",
    "    'AuthorDate': datetime.datetime(2017, 7, 4, 22, 53, 9, tzinfo=datetime.timezone(datetime.timedelta(seconds=7200))),\n",
    "    'Subject': 'jinja2 templates + avoid name collisions with nb',\n",
    "    'ChangedFiles': 'nbdime/webapp/nbdimeserver.py,nbdime/webapp/templates/compare.html,nbdime/webapp/templates/diff.html,nbdime/webapp/templates/difftool.html,nbdime/webapp/templates/merge.html,nbdime/webapp/templates/mergetool.html,nbdime/webapp/templates/nbdimepage.html,setup.py'\\\n",
    "}\n",
    "assert wanted_commit == correct_wanted_commit"
   ]
  }
 ],
 "metadata": {
  "kernelspec": {
   "display_name": "Python 3",
   "language": "python",
   "name": "python3"
  },
  "language_info": {
   "codemirror_mode": {
    "name": "ipython",
    "version": 3
   },
   "file_extension": ".py",
   "mimetype": "text/x-python",
   "name": "python",
   "nbconvert_exporter": "python",
   "pygments_lexer": "ipython3",
   "version": "3.8.8"
  },
  "toc": {
   "base_numbering": 1,
   "nav_menu": {},
   "number_sections": false,
   "sideBar": true,
   "skip_h1_title": true,
   "title_cell": "Table of Contents",
   "title_sidebar": "Contents",
   "toc_cell": false,
   "toc_position": {
    "height": "calc(100% - 180px)",
    "left": "10px",
    "top": "150px",
    "width": "165px"
   },
   "toc_section_display": true,
   "toc_window_display": true
  }
 },
 "nbformat": 4,
 "nbformat_minor": 5
}
